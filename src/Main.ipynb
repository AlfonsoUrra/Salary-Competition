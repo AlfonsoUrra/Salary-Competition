{
 "cells": [
  {
   "cell_type": "markdown",
   "id": "f205a4b0",
   "metadata": {},
   "source": [
    "# Bibliotecas"
   ]
  },
  {
   "cell_type": "code",
   "execution_count": 1,
   "id": "135876d5",
   "metadata": {
    "scrolled": true
   },
   "outputs": [
    {
     "name": "stdout",
     "output_type": "stream",
     "text": [
      "Requirement already satisfied: lazypredict in c:\\users\\usuario\\anaconda3\\lib\\site-packages (0.2.12)\n",
      "Requirement already satisfied: pandas in c:\\users\\usuario\\anaconda3\\lib\\site-packages (from lazypredict) (1.3.4)\n",
      "Requirement already satisfied: xgboost in c:\\users\\usuario\\anaconda3\\lib\\site-packages (from lazypredict) (1.7.4)\n",
      "Requirement already satisfied: joblib in c:\\users\\usuario\\anaconda3\\lib\\site-packages (from lazypredict) (1.2.0)\n",
      "Requirement already satisfied: click in c:\\users\\usuario\\anaconda3\\lib\\site-packages (from lazypredict) (8.0.3)\n",
      "Requirement already satisfied: tqdm in c:\\users\\usuario\\anaconda3\\lib\\site-packages (from lazypredict) (4.62.3)\n",
      "Requirement already satisfied: lightgbm in c:\\users\\usuario\\anaconda3\\lib\\site-packages (from lazypredict) (3.3.5)\n",
      "Requirement already satisfied: scikit-learn in c:\\users\\usuario\\anaconda3\\lib\\site-packages (from lazypredict) (1.2.1)\n",
      "Requirement already satisfied: colorama in c:\\users\\usuario\\anaconda3\\lib\\site-packages (from click->lazypredict) (0.4.4)\n",
      "Requirement already satisfied: scipy in c:\\users\\usuario\\anaconda3\\lib\\site-packages (from lightgbm->lazypredict) (1.7.1)\n",
      "Requirement already satisfied: numpy in c:\\users\\usuario\\anaconda3\\lib\\site-packages (from lightgbm->lazypredict) (1.20.3)\n",
      "Requirement already satisfied: wheel in c:\\users\\usuario\\anaconda3\\lib\\site-packages (from lightgbm->lazypredict) (0.37.0)\n",
      "Requirement already satisfied: threadpoolctl>=2.0.0 in c:\\users\\usuario\\anaconda3\\lib\\site-packages (from scikit-learn->lazypredict) (2.2.0)\n",
      "Requirement already satisfied: pytz>=2017.3 in c:\\users\\usuario\\anaconda3\\lib\\site-packages (from pandas->lazypredict) (2021.3)\n",
      "Requirement already satisfied: python-dateutil>=2.7.3 in c:\\users\\usuario\\anaconda3\\lib\\site-packages (from pandas->lazypredict) (2.8.2)\n",
      "Requirement already satisfied: six>=1.5 in c:\\users\\usuario\\anaconda3\\lib\\site-packages (from python-dateutil>=2.7.3->pandas->lazypredict) (1.16.0)\n",
      "Note: you may need to restart the kernel to use updated packages.\n"
     ]
    }
   ],
   "source": [
    "#Importar Bibliotecas\n",
    "%pip install lazypredict\n",
    "\n",
    "import pandas as pd\n",
    "import numpy as np\n",
    "import re\n",
    "import seaborn as sns\n",
    "import matplotlib.pyplot as plt\n",
    "import math\n",
    "\n",
    "from sklearn.linear_model import LinearRegression\n",
    "from sklearn.model_selection import train_test_split\n",
    "from sklearn.metrics import r2_score\n",
    "from lazypredict.Supervised import LazyRegressor\n",
    "from sklearn.metrics import mean_squared_error\n",
    "from sklearn.preprocessing import StandardScaler\n",
    "\n",
    "\n",
    "import warnings\n",
    "warnings.filterwarnings(\"ignore\")"
   ]
  },
  {
   "cell_type": "markdown",
   "id": "8ba4e73e",
   "metadata": {},
   "source": [
    "# Cargar Data"
   ]
  },
  {
   "cell_type": "code",
   "execution_count": 2,
   "id": "7f26685b",
   "metadata": {},
   "outputs": [],
   "source": [
    "#cargar los datos\n",
    "\n",
    "df= pd.read_csv('../data/salaries_data.csv')\n",
    "df_test = pd.read_csv('../data/testeo.csv')"
   ]
  },
  {
   "cell_type": "markdown",
   "id": "c9bf660a",
   "metadata": {},
   "source": [
    "# Explorar Datos"
   ]
  },
  {
   "cell_type": "code",
   "execution_count": 3,
   "id": "600e94b0",
   "metadata": {},
   "outputs": [],
   "source": [
    "df= df.drop(['salary', 'salary_currency'], axis = 1)\n"
   ]
  },
  {
   "cell_type": "code",
   "execution_count": 4,
   "id": "856ec723",
   "metadata": {},
   "outputs": [],
   "source": [
    "#df = pd.concat([df_inicio,df_test])"
   ]
  },
  {
   "cell_type": "code",
   "execution_count": 5,
   "id": "d7721b9b",
   "metadata": {},
   "outputs": [
    {
     "data": {
      "text/html": [
       "<div>\n",
       "<style scoped>\n",
       "    .dataframe tbody tr th:only-of-type {\n",
       "        vertical-align: middle;\n",
       "    }\n",
       "\n",
       "    .dataframe tbody tr th {\n",
       "        vertical-align: top;\n",
       "    }\n",
       "\n",
       "    .dataframe thead th {\n",
       "        text-align: right;\n",
       "    }\n",
       "</style>\n",
       "<table border=\"1\" class=\"dataframe\">\n",
       "  <thead>\n",
       "    <tr style=\"text-align: right;\">\n",
       "      <th></th>\n",
       "      <th>work_year</th>\n",
       "      <th>experience_level</th>\n",
       "      <th>employment_type</th>\n",
       "      <th>job_title</th>\n",
       "      <th>employee_residence</th>\n",
       "      <th>remote_ratio</th>\n",
       "      <th>company_location</th>\n",
       "      <th>company_size</th>\n",
       "    </tr>\n",
       "  </thead>\n",
       "  <tbody>\n",
       "    <tr>\n",
       "      <th>0</th>\n",
       "      <td>2020</td>\n",
       "      <td>SE</td>\n",
       "      <td>FT</td>\n",
       "      <td>Machine Learning Scientist</td>\n",
       "      <td>JP</td>\n",
       "      <td>0</td>\n",
       "      <td>JP</td>\n",
       "      <td>S</td>\n",
       "    </tr>\n",
       "    <tr>\n",
       "      <th>1</th>\n",
       "      <td>2020</td>\n",
       "      <td>MI</td>\n",
       "      <td>FT</td>\n",
       "      <td>Lead Data Analyst</td>\n",
       "      <td>US</td>\n",
       "      <td>100</td>\n",
       "      <td>US</td>\n",
       "      <td>L</td>\n",
       "    </tr>\n",
       "    <tr>\n",
       "      <th>2</th>\n",
       "      <td>2020</td>\n",
       "      <td>MI</td>\n",
       "      <td>FT</td>\n",
       "      <td>Data Analyst</td>\n",
       "      <td>US</td>\n",
       "      <td>100</td>\n",
       "      <td>US</td>\n",
       "      <td>L</td>\n",
       "    </tr>\n",
       "    <tr>\n",
       "      <th>3</th>\n",
       "      <td>2020</td>\n",
       "      <td>MI</td>\n",
       "      <td>FT</td>\n",
       "      <td>Machine Learning Engineer</td>\n",
       "      <td>CN</td>\n",
       "      <td>0</td>\n",
       "      <td>CN</td>\n",
       "      <td>M</td>\n",
       "    </tr>\n",
       "    <tr>\n",
       "      <th>4</th>\n",
       "      <td>2020</td>\n",
       "      <td>MI</td>\n",
       "      <td>FT</td>\n",
       "      <td>Product Data Analyst</td>\n",
       "      <td>IN</td>\n",
       "      <td>100</td>\n",
       "      <td>IN</td>\n",
       "      <td>L</td>\n",
       "    </tr>\n",
       "  </tbody>\n",
       "</table>\n",
       "</div>"
      ],
      "text/plain": [
       "   work_year experience_level employment_type                   job_title  \\\n",
       "0       2020               SE              FT  Machine Learning Scientist   \n",
       "1       2020               MI              FT           Lead Data Analyst   \n",
       "2       2020               MI              FT                Data Analyst   \n",
       "3       2020               MI              FT   Machine Learning Engineer   \n",
       "4       2020               MI              FT        Product Data Analyst   \n",
       "\n",
       "  employee_residence  remote_ratio company_location company_size  \n",
       "0                 JP             0               JP            S  \n",
       "1                 US           100               US            L  \n",
       "2                 US           100               US            L  \n",
       "3                 CN             0               CN            M  \n",
       "4                 IN           100               IN            L  "
      ]
     },
     "execution_count": 5,
     "metadata": {},
     "output_type": "execute_result"
    }
   ],
   "source": [
    "df_test.head()"
   ]
  },
  {
   "cell_type": "code",
   "execution_count": 6,
   "id": "7f5ec851",
   "metadata": {},
   "outputs": [
    {
     "data": {
      "text/plain": [
       "work_year             0\n",
       "experience_level      0\n",
       "employment_type       0\n",
       "job_title             0\n",
       "salary_in_usd         0\n",
       "employee_residence    0\n",
       "remote_ratio          0\n",
       "company_location      0\n",
       "company_size          0\n",
       "dtype: int64"
      ]
     },
     "execution_count": 6,
     "metadata": {},
     "output_type": "execute_result"
    }
   ],
   "source": [
    "df.isna().sum()"
   ]
  },
  {
   "cell_type": "code",
   "execution_count": 7,
   "id": "b10a980b",
   "metadata": {},
   "outputs": [
    {
     "data": {
      "text/html": [
       "<div>\n",
       "<style scoped>\n",
       "    .dataframe tbody tr th:only-of-type {\n",
       "        vertical-align: middle;\n",
       "    }\n",
       "\n",
       "    .dataframe tbody tr th {\n",
       "        vertical-align: top;\n",
       "    }\n",
       "\n",
       "    .dataframe thead th {\n",
       "        text-align: right;\n",
       "    }\n",
       "</style>\n",
       "<table border=\"1\" class=\"dataframe\">\n",
       "  <thead>\n",
       "    <tr style=\"text-align: right;\">\n",
       "      <th></th>\n",
       "      <th>count</th>\n",
       "      <th>mean</th>\n",
       "      <th>std</th>\n",
       "      <th>min</th>\n",
       "      <th>25%</th>\n",
       "      <th>50%</th>\n",
       "      <th>75%</th>\n",
       "      <th>max</th>\n",
       "    </tr>\n",
       "  </thead>\n",
       "  <tbody>\n",
       "    <tr>\n",
       "      <th>work_year</th>\n",
       "      <td>500.00</td>\n",
       "      <td>2021.41</td>\n",
       "      <td>0.68</td>\n",
       "      <td>2020.00</td>\n",
       "      <td>2021.00</td>\n",
       "      <td>2022.00</td>\n",
       "      <td>2022.00</td>\n",
       "      <td>2022.00</td>\n",
       "    </tr>\n",
       "    <tr>\n",
       "      <th>salary_in_usd</th>\n",
       "      <td>500.00</td>\n",
       "      <td>112996.22</td>\n",
       "      <td>69613.75</td>\n",
       "      <td>2859.00</td>\n",
       "      <td>64594.50</td>\n",
       "      <td>103080.00</td>\n",
       "      <td>150000.00</td>\n",
       "      <td>450000.00</td>\n",
       "    </tr>\n",
       "    <tr>\n",
       "      <th>remote_ratio</th>\n",
       "      <td>500.00</td>\n",
       "      <td>71.80</td>\n",
       "      <td>40.47</td>\n",
       "      <td>0.00</td>\n",
       "      <td>50.00</td>\n",
       "      <td>100.00</td>\n",
       "      <td>100.00</td>\n",
       "      <td>100.00</td>\n",
       "    </tr>\n",
       "  </tbody>\n",
       "</table>\n",
       "</div>"
      ],
      "text/plain": [
       "               count      mean      std     min      25%       50%       75%  \\\n",
       "work_year     500.00   2021.41     0.68 2020.00  2021.00   2022.00   2022.00   \n",
       "salary_in_usd 500.00 112996.22 69613.75 2859.00 64594.50 103080.00 150000.00   \n",
       "remote_ratio  500.00     71.80    40.47    0.00    50.00    100.00    100.00   \n",
       "\n",
       "                    max  \n",
       "work_year       2022.00  \n",
       "salary_in_usd 450000.00  \n",
       "remote_ratio     100.00  "
      ]
     },
     "execution_count": 7,
     "metadata": {},
     "output_type": "execute_result"
    }
   ],
   "source": [
    "df.describe().T"
   ]
  },
  {
   "cell_type": "code",
   "execution_count": 8,
   "id": "98d357aa",
   "metadata": {},
   "outputs": [
    {
     "data": {
      "text/plain": [
       "(500, 9)"
      ]
     },
     "execution_count": 8,
     "metadata": {},
     "output_type": "execute_result"
    }
   ],
   "source": [
    "df.shape"
   ]
  },
  {
   "cell_type": "code",
   "execution_count": 9,
   "id": "fd311ce6",
   "metadata": {},
   "outputs": [
    {
     "name": "stdout",
     "output_type": "stream",
     "text": [
      "<class 'pandas.core.frame.DataFrame'>\n",
      "RangeIndex: 500 entries, 0 to 499\n",
      "Data columns (total 9 columns):\n",
      " #   Column              Non-Null Count  Dtype \n",
      "---  ------              --------------  ----- \n",
      " 0   work_year           500 non-null    int64 \n",
      " 1   experience_level    500 non-null    object\n",
      " 2   employment_type     500 non-null    object\n",
      " 3   job_title           500 non-null    object\n",
      " 4   salary_in_usd       500 non-null    int64 \n",
      " 5   employee_residence  500 non-null    object\n",
      " 6   remote_ratio        500 non-null    int64 \n",
      " 7   company_location    500 non-null    object\n",
      " 8   company_size        500 non-null    object\n",
      "dtypes: int64(3), object(6)\n",
      "memory usage: 35.3+ KB\n"
     ]
    }
   ],
   "source": [
    "df.info()"
   ]
  },
  {
   "cell_type": "code",
   "execution_count": 10,
   "id": "fc74adde",
   "metadata": {},
   "outputs": [
    {
     "data": {
      "text/plain": [
       "job_title\n",
       "3D Computer Vision Researcher                5409.00\n",
       "Product Data Analyst                        20000.00\n",
       "Computer Vision Engineer                    28226.75\n",
       "Data Analytics Engineer                     35000.00\n",
       "Machine Learning Infrastructure Engineer    54217.50\n",
       "ETL Developer                               54957.00\n",
       "Big Data Engineer                           57080.57\n",
       "AI Scientist                                59410.60\n",
       "Finance Data Analyst                        61896.00\n",
       "Data Science Consultant                     67874.20\n",
       "Computer Vision Software Engineer           70000.00\n",
       "Machine Learning Developer                  78791.00\n",
       "Head of Machine Learning                    79039.00\n",
       "BI Data Analyst                             82454.40\n",
       "Data Science Engineer                       83705.00\n",
       "Lead Machine Learning Engineer              87932.00\n",
       "Marketing Data Analyst                      88654.00\n",
       "Business Data Analyst                       91253.50\n",
       "Data Analyst                                92154.56\n",
       "Lead Data Analyst                           94804.50\n",
       "Big Data Architect                          99703.00\n",
       "Research Scientist                          99953.58\n",
       "Staff Data Scientist                       105000.00\n",
       "Data Scientist                             110782.45\n",
       "Data Engineer                              111636.21\n",
       "Lead Data Scientist                        115190.00\n",
       "Machine Learning Manager                   117104.00\n",
       "ML Engineer                                117504.00\n",
       "Machine Learning Engineer                  117583.13\n",
       "Data Engineering Manager                   123227.20\n",
       "Cloud Data Engineer                        124647.00\n",
       "Data Analytics Manager                     127134.29\n",
       "Lead Data Engineer                         139724.50\n",
       "Head of Data                               142703.25\n",
       "Machine Learning Scientist                 143900.00\n",
       "Director of Data Engineering               156738.00\n",
       "Data Science Manager                       158328.50\n",
       "Analytics Engineer                         164900.00\n",
       "Data Specialist                            165000.00\n",
       "Head of Data Science                       167000.00\n",
       "Principal Data Analyst                     170000.00\n",
       "Applied Data Scientist                     175655.00\n",
       "Data Architect                             175934.25\n",
       "Applied Machine Learning Scientist         178800.00\n",
       "Director of Data Science                   195074.00\n",
       "Principal Data Scientist                   214449.50\n",
       "Data Analytics Lead                        405000.00\n",
       "Financial Data Analyst                     450000.00\n",
       "Name: salary_in_usd, dtype: float64"
      ]
     },
     "execution_count": 10,
     "metadata": {},
     "output_type": "execute_result"
    }
   ],
   "source": [
    "df_s = df.groupby('job_title')['salary_in_usd'].mean()\n",
    "df_s.sort_values()"
   ]
  },
  {
   "cell_type": "code",
   "execution_count": 11,
   "id": "95ec399f",
   "metadata": {},
   "outputs": [
    {
     "data": {
      "text/plain": [
       "job_title\n",
       "Data Analytics Lead      405000.00\n",
       "Financial Data Analyst   450000.00\n",
       "Name: salary_in_usd, dtype: float64"
      ]
     },
     "execution_count": 11,
     "metadata": {},
     "output_type": "execute_result"
    }
   ],
   "source": [
    "#Límites del criterio turkey para identificar outliers\n",
    "\n",
    "Q1 = df['salary_in_usd'].quantile(0.25)\n",
    "Q3 = df['salary_in_usd'].quantile(0.75)\n",
    "IQR = Q3 - Q1\n",
    "\n",
    "outliers = df.groupby('job_title')['salary_in_usd'].mean()[(df.groupby('job_title')['salary_in_usd'].mean() < Q1 - 1.5 * IQR) | (df.groupby('job_title')['salary_in_usd'].mean() > Q3 + 1.5 * IQR)]\n",
    "outliers"
   ]
  },
  {
   "cell_type": "code",
   "execution_count": 12,
   "id": "ea375d09",
   "metadata": {},
   "outputs": [
    {
     "name": "stdout",
     "output_type": "stream",
     "text": [
      "Q11: 64594.5\n",
      "Q33: 150000.0\n",
      "IQRR: 85405.5\n",
      "Upper Limit for Outliers: 278108.25\n",
      "Lower Limit for Outliers: 21891.75\n"
     ]
    }
   ],
   "source": [
    "#regla de las 1.5 veces el rango intercuartílico\n",
    "\n",
    "Q11 = df['salary_in_usd'].quantile(0.25)\n",
    "Q33 = df['salary_in_usd'].quantile(0.75)\n",
    "IQRR = Q33 - Q11\n",
    "upper_limit = Q33 + 1.5 * IQRR\n",
    "lower_limit = Q33 - 1.5 * IQRR\n",
    "print(\"Q11:\", Q1)\n",
    "print(\"Q33:\", Q3)\n",
    "print(\"IQRR:\", IQRR)\n",
    "print(\"Upper Limit for Outliers:\", upper_limit)\n",
    "print(\"Lower Limit for Outliers:\", lower_limit)"
   ]
  },
  {
   "cell_type": "markdown",
   "id": "d40006c6",
   "metadata": {},
   "source": [
    "# Division Data para train y testeo"
   ]
  },
  {
   "cell_type": "code",
   "execution_count": 13,
   "id": "09d59a4a",
   "metadata": {},
   "outputs": [],
   "source": [
    "#train = df.iloc[:500, :]\n",
    "#test = df.iloc[500:, :]\n",
    "#test = test.drop(['salary_in_usd'], axis = 1)\n",
    "X = df[['salary_in_usd']]\n",
    "scaler = StandardScaler()\n",
    "X = scaler.fit_transform(X)"
   ]
  },
  {
   "cell_type": "code",
   "execution_count": 14,
   "id": "6ef95ebc",
   "metadata": {},
   "outputs": [
    {
     "data": {
      "text/plain": [
       "work_year             0\n",
       "experience_level      0\n",
       "employment_type       0\n",
       "job_title             0\n",
       "salary_in_usd         0\n",
       "employee_residence    0\n",
       "remote_ratio          0\n",
       "company_location      0\n",
       "company_size          0\n",
       "dtype: int64"
      ]
     },
     "execution_count": 14,
     "metadata": {},
     "output_type": "execute_result"
    }
   ],
   "source": [
    "df.isna().sum()"
   ]
  },
  {
   "cell_type": "markdown",
   "id": "827891d9",
   "metadata": {},
   "source": [
    "# Ordenar y jerarquizar datos"
   ]
  },
  {
   "cell_type": "markdown",
   "id": "81f57740",
   "metadata": {},
   "source": [
    "#### Ordenar columna Experience level segun salarios\n"
   ]
  },
  {
   "cell_type": "code",
   "execution_count": 15,
   "id": "0ed73656",
   "metadata": {},
   "outputs": [
    {
     "data": {
      "text/plain": [
       "experience_level\n",
       "EN    59989.57\n",
       "EX   196078.85\n",
       "MI    90384.61\n",
       "SE   136341.79\n",
       "Name: salary_in_usd, dtype: float64"
      ]
     },
     "execution_count": 15,
     "metadata": {},
     "output_type": "execute_result"
    }
   ],
   "source": [
    "df.groupby('experience_level')['salary_in_usd'].mean()"
   ]
  },
  {
   "cell_type": "code",
   "execution_count": 16,
   "id": "a630dec7",
   "metadata": {},
   "outputs": [],
   "source": [
    "#con esta columna vamos a crear una función que haga lo siguiente: \n",
    "#si tiene la palabra \"ml\" o \"machine learning\", que sea \"ml\"\n",
    "#si tiene la palabra \"anayst\" que sea \"analyst\"\n",
    "#si tiene la palabra engineer que sea \"engineer\"\n",
    "#si tiene la palabra scientist que sea \"scientist\"\n",
    "#y si no tienen ninguno de estos, que sea \"other\"\n",
    "def job_title(x):\n",
    "    if 'ml' in x.lower() or 'machine learning' in x.lower():\n",
    "        return 'ml'\n",
    "    elif 'analyst' in x.lower():\n",
    "        return 'analyst'\n",
    "    elif 'engineer' in x.lower():\n",
    "        return 'engineer'\n",
    "    elif 'scientist' in x.lower():\n",
    "        return 'scientist'\n",
    "    else:\n",
    "        return 'other'\n",
    "#aplicamos la función en la columna job_title con un lambda\n",
    "df['job_title'] = df['job_title'].apply(lambda x: job_title(x))\n",
    "df_test['job_title'] = df_test['job_title'].apply(lambda x: job_title(x))\n"
   ]
  },
  {
   "cell_type": "code",
   "execution_count": 17,
   "id": "6ff0308e",
   "metadata": {},
   "outputs": [
    {
     "data": {
      "text/plain": [
       "'# Definir una función que asigna valores numéricos a diferentes rangos de valores\\ndef assign_value(x):\\n    if x <= 90000:\\n        return 0\\n    elif x < 196000 and x > 90000:\\n        return 1\\n    elif x < 300000 and x > 196000:\\n        return 2\\n    elif x > 300000:\\n        return 3\\n\\n\\n# Aplicar la función a la columna \"salary_in_usd\" utilizando el método \"apply\"\\ndf[\\'experience_level\\'] = df[\\'salary_in_usd\\'].apply(assign_value)\\ndf_test[\\'experience_level\\'] = df[\\'salary_in_usd\\'].apply(assign_value)'"
      ]
     },
     "execution_count": 17,
     "metadata": {},
     "output_type": "execute_result"
    }
   ],
   "source": [
    "'''# Definir una función que asigna valores numéricos a diferentes rangos de valores\n",
    "def assign_value(x):\n",
    "    if x <= 90000:\n",
    "        return 0\n",
    "    elif x < 196000 and x > 90000:\n",
    "        return 1\n",
    "    elif x < 300000 and x > 196000:\n",
    "        return 2\n",
    "    elif x > 300000:\n",
    "        return 3\n",
    "\n",
    "\n",
    "# Aplicar la función a la columna \"salary_in_usd\" utilizando el método \"apply\"\n",
    "df['experience_level'] = df['salary_in_usd'].apply(assign_value)\n",
    "df_test['experience_level'] = df['salary_in_usd'].apply(assign_value)'''"
   ]
  },
  {
   "cell_type": "markdown",
   "id": "65ff219f",
   "metadata": {},
   "source": [
    "#### Ordenar employee_residence segun salarios"
   ]
  },
  {
   "cell_type": "code",
   "execution_count": 18,
   "id": "cf2224c5",
   "metadata": {},
   "outputs": [
    {
     "data": {
      "text/plain": [
       "\"mean_salary = train.groupby('employee_residence')['salary_in_usd'].mean()\\n\\n# Ordenar los valores medios de forma descendente\\nmean_salary_sorted = mean_salary.sort_values(ascending=False)\\n\""
      ]
     },
     "execution_count": 18,
     "metadata": {},
     "output_type": "execute_result"
    }
   ],
   "source": [
    "'''mean_salary = train.groupby('employee_residence')['salary_in_usd'].mean()\n",
    "\n",
    "# Ordenar los valores medios de forma descendente\n",
    "mean_salary_sorted = mean_salary.sort_values(ascending=False)\n",
    "'''"
   ]
  },
  {
   "cell_type": "code",
   "execution_count": 19,
   "id": "da8d8a3d",
   "metadata": {},
   "outputs": [
    {
     "data": {
      "text/plain": [
       "\"# Definir los límites de los rangos\\nmin_salary = train['salary_in_usd'].min()\\nmax_salary = train['salary_in_usd'].max()\\namplitude = (max_salary - min_salary) / 50\\nrange_limits = [min_salary + i * amplitude for i in range(51)]\\n\\n# Crear las categorías numéricas\\ntrain['employee_residence'] = pd.cut(train['salary_in_usd'], bins=range_limits, labels=False)\\ntest['employee_residence'] = pd.cut(train['salary_in_usd'], bins=range_limits, labels=False)\\n\""
      ]
     },
     "execution_count": 19,
     "metadata": {},
     "output_type": "execute_result"
    }
   ],
   "source": [
    "'''# Definir los límites de los rangos\n",
    "min_salary = train['salary_in_usd'].min()\n",
    "max_salary = train['salary_in_usd'].max()\n",
    "amplitude = (max_salary - min_salary) / 50\n",
    "range_limits = [min_salary + i * amplitude for i in range(51)]\n",
    "\n",
    "# Crear las categorías numéricas\n",
    "train['employee_residence'] = pd.cut(train['salary_in_usd'], bins=range_limits, labels=False)\n",
    "test['employee_residence'] = pd.cut(train['salary_in_usd'], bins=range_limits, labels=False)\n",
    "'''"
   ]
  },
  {
   "cell_type": "markdown",
   "id": "cd296c6d",
   "metadata": {},
   "source": [
    "#### ordenar company_location según salarios"
   ]
  },
  {
   "cell_type": "code",
   "execution_count": 20,
   "id": "7aa5374d",
   "metadata": {},
   "outputs": [
    {
     "data": {
      "text/plain": [
       "\"train['company_location'].unique()\""
      ]
     },
     "execution_count": 20,
     "metadata": {},
     "output_type": "execute_result"
    }
   ],
   "source": [
    "'''train['company_location'].unique()'''"
   ]
  },
  {
   "cell_type": "code",
   "execution_count": 21,
   "id": "8be1dadf",
   "metadata": {},
   "outputs": [
    {
     "data": {
      "text/plain": [
       "\"mean_salary = train.groupby('company_location')['salary_in_usd'].mean()\\n\\n# Ordenar los valores medios de forma descendente\\nmean_salary_sorted = mean_salary.sort_values(ascending=False)\""
      ]
     },
     "execution_count": 21,
     "metadata": {},
     "output_type": "execute_result"
    }
   ],
   "source": [
    "'''mean_salary = train.groupby('company_location')['salary_in_usd'].mean()\n",
    "\n",
    "# Ordenar los valores medios de forma descendente\n",
    "mean_salary_sorted = mean_salary.sort_values(ascending=False)'''"
   ]
  },
  {
   "cell_type": "code",
   "execution_count": 22,
   "id": "890bc998",
   "metadata": {},
   "outputs": [
    {
     "data": {
      "text/plain": [
       "\"# Definir los límites de los rangos\\nmin_salary = train['salary_in_usd'].min()\\nmax_salary = train['salary_in_usd'].max()\\namplitude = (max_salary - min_salary) / 44\\nrange_limits = [min_salary + i * amplitude for i in range(45)]\\n\\n# Crear las categorías numéricas\\ntrain['company_location'] = pd.cut(train['salary_in_usd'], bins=range_limits, labels=False)\\ntest['company_location'] = pd.cut(train['salary_in_usd'], bins=range_limits, labels=False)\\n\""
      ]
     },
     "execution_count": 22,
     "metadata": {},
     "output_type": "execute_result"
    }
   ],
   "source": [
    "'''# Definir los límites de los rangos\n",
    "min_salary = train['salary_in_usd'].min()\n",
    "max_salary = train['salary_in_usd'].max()\n",
    "amplitude = (max_salary - min_salary) / 44\n",
    "range_limits = [min_salary + i * amplitude for i in range(45)]\n",
    "\n",
    "# Crear las categorías numéricas\n",
    "train['company_location'] = pd.cut(train['salary_in_usd'], bins=range_limits, labels=False)\n",
    "test['company_location'] = pd.cut(train['salary_in_usd'], bins=range_limits, labels=False)\n",
    "'''"
   ]
  },
  {
   "cell_type": "markdown",
   "id": "292c58b8",
   "metadata": {},
   "source": [
    "#### ordenar por job title y salarios medios"
   ]
  },
  {
   "cell_type": "code",
   "execution_count": 23,
   "id": "687c9de2",
   "metadata": {},
   "outputs": [
    {
     "data": {
      "text/plain": [
       "\"mean_salary = train.groupby('job_title')['salary_in_usd'].mean()\\n\\n# Ordenar los valores medios de forma descendente\\nmean_salary_sorted = mean_salary.sort_values(ascending=False)\""
      ]
     },
     "execution_count": 23,
     "metadata": {},
     "output_type": "execute_result"
    }
   ],
   "source": [
    "'''mean_salary = train.groupby('job_title')['salary_in_usd'].mean()\n",
    "\n",
    "# Ordenar los valores medios de forma descendente\n",
    "mean_salary_sorted = mean_salary.sort_values(ascending=False)'''"
   ]
  },
  {
   "cell_type": "code",
   "execution_count": 24,
   "id": "0158adc4",
   "metadata": {},
   "outputs": [
    {
     "data": {
      "text/plain": [
       "\"# Definir los límites de los rangos\\nmin_salary = train['salary_in_usd'].min()\\nmax_salary = train['salary_in_usd'].max()\\namplitude = (max_salary - min_salary) / 48\\nrange_limits = [min_salary + i * amplitude for i in range(49)]\\n\\n# Crear las categorías numéricas\\ntrain['job_title'] = pd.cut(train['salary_in_usd'], bins=range_limits, labels=False)\\ntest['job_title'] = pd.cut(train['salary_in_usd'], bins=range_limits, labels=False)\\n\""
      ]
     },
     "execution_count": 24,
     "metadata": {},
     "output_type": "execute_result"
    }
   ],
   "source": [
    "'''# Definir los límites de los rangos\n",
    "min_salary = train['salary_in_usd'].min()\n",
    "max_salary = train['salary_in_usd'].max()\n",
    "amplitude = (max_salary - min_salary) / 48\n",
    "range_limits = [min_salary + i * amplitude for i in range(49)]\n",
    "\n",
    "# Crear las categorías numéricas\n",
    "train['job_title'] = pd.cut(train['salary_in_usd'], bins=range_limits, labels=False)\n",
    "test['job_title'] = pd.cut(train['salary_in_usd'], bins=range_limits, labels=False)\n",
    "'''"
   ]
  },
  {
   "cell_type": "code",
   "execution_count": 25,
   "id": "bb6886fc",
   "metadata": {},
   "outputs": [
    {
     "data": {
      "text/html": [
       "<div>\n",
       "<style scoped>\n",
       "    .dataframe tbody tr th:only-of-type {\n",
       "        vertical-align: middle;\n",
       "    }\n",
       "\n",
       "    .dataframe tbody tr th {\n",
       "        vertical-align: top;\n",
       "    }\n",
       "\n",
       "    .dataframe thead th {\n",
       "        text-align: right;\n",
       "    }\n",
       "</style>\n",
       "<table border=\"1\" class=\"dataframe\">\n",
       "  <thead>\n",
       "    <tr style=\"text-align: right;\">\n",
       "      <th></th>\n",
       "      <th>work_year</th>\n",
       "      <th>experience_level</th>\n",
       "      <th>employment_type</th>\n",
       "      <th>job_title</th>\n",
       "      <th>salary_in_usd</th>\n",
       "      <th>employee_residence</th>\n",
       "      <th>remote_ratio</th>\n",
       "      <th>company_location</th>\n",
       "      <th>company_size</th>\n",
       "    </tr>\n",
       "  </thead>\n",
       "  <tbody>\n",
       "    <tr>\n",
       "      <th>0</th>\n",
       "      <td>2022</td>\n",
       "      <td>SE</td>\n",
       "      <td>FT</td>\n",
       "      <td>engineer</td>\n",
       "      <td>140250</td>\n",
       "      <td>US</td>\n",
       "      <td>100</td>\n",
       "      <td>US</td>\n",
       "      <td>M</td>\n",
       "    </tr>\n",
       "    <tr>\n",
       "      <th>1</th>\n",
       "      <td>2022</td>\n",
       "      <td>SE</td>\n",
       "      <td>FT</td>\n",
       "      <td>engineer</td>\n",
       "      <td>135000</td>\n",
       "      <td>US</td>\n",
       "      <td>100</td>\n",
       "      <td>US</td>\n",
       "      <td>M</td>\n",
       "    </tr>\n",
       "    <tr>\n",
       "      <th>2</th>\n",
       "      <td>2021</td>\n",
       "      <td>MI</td>\n",
       "      <td>FT</td>\n",
       "      <td>analyst</td>\n",
       "      <td>100000</td>\n",
       "      <td>US</td>\n",
       "      <td>100</td>\n",
       "      <td>US</td>\n",
       "      <td>M</td>\n",
       "    </tr>\n",
       "    <tr>\n",
       "      <th>3</th>\n",
       "      <td>2021</td>\n",
       "      <td>MI</td>\n",
       "      <td>CT</td>\n",
       "      <td>ml</td>\n",
       "      <td>270000</td>\n",
       "      <td>US</td>\n",
       "      <td>100</td>\n",
       "      <td>US</td>\n",
       "      <td>L</td>\n",
       "    </tr>\n",
       "    <tr>\n",
       "      <th>4</th>\n",
       "      <td>2021</td>\n",
       "      <td>MI</td>\n",
       "      <td>FT</td>\n",
       "      <td>engineer</td>\n",
       "      <td>26005</td>\n",
       "      <td>RO</td>\n",
       "      <td>0</td>\n",
       "      <td>US</td>\n",
       "      <td>L</td>\n",
       "    </tr>\n",
       "  </tbody>\n",
       "</table>\n",
       "</div>"
      ],
      "text/plain": [
       "   work_year experience_level employment_type job_title  salary_in_usd  \\\n",
       "0       2022               SE              FT  engineer         140250   \n",
       "1       2022               SE              FT  engineer         135000   \n",
       "2       2021               MI              FT   analyst         100000   \n",
       "3       2021               MI              CT        ml         270000   \n",
       "4       2021               MI              FT  engineer          26005   \n",
       "\n",
       "  employee_residence  remote_ratio company_location company_size  \n",
       "0                 US           100               US            M  \n",
       "1                 US           100               US            M  \n",
       "2                 US           100               US            M  \n",
       "3                 US           100               US            L  \n",
       "4                 RO             0               US            L  "
      ]
     },
     "execution_count": 25,
     "metadata": {},
     "output_type": "execute_result"
    }
   ],
   "source": [
    "df.head()"
   ]
  },
  {
   "cell_type": "code",
   "execution_count": 26,
   "id": "27f4248f",
   "metadata": {},
   "outputs": [],
   "source": [
    "df = pd.get_dummies(df, columns = ['experience_level', 'employment_type', 'job_title', 'employee_residence', 'company_location', 'company_size'])\n",
    "df_test = pd.get_dummies(df_test, columns = ['experience_level', 'employment_type', 'job_title', 'employee_residence', 'company_location', 'company_size'])\n"
   ]
  },
  {
   "cell_type": "code",
   "execution_count": 27,
   "id": "048b442f",
   "metadata": {},
   "outputs": [
    {
     "data": {
      "text/plain": [
       "\"# Crear una matriz de correlación con todas las variables\\ncorr_matrix = df.corr()\\n\\n# Ordenar la correlación de mayor a menor con respecto a salary_usd\\ncorr = corr_matrix['salary_in_usd'].sort_values(ascending=False)\\n\\n# Crear un heatmap con las variables más correlacionadas con salary_usd\\nplt.figure(figsize=(12,10))\\nsns.heatmap(corr_matrix.loc[corr.index, corr.index], annot=True, cmap='coolwarm')\\nplt.show()\""
      ]
     },
     "execution_count": 27,
     "metadata": {},
     "output_type": "execute_result"
    }
   ],
   "source": [
    "'''# Crear una matriz de correlación con todas las variables\n",
    "corr_matrix = df.corr()\n",
    "\n",
    "# Ordenar la correlación de mayor a menor con respecto a salary_usd\n",
    "corr = corr_matrix['salary_in_usd'].sort_values(ascending=False)\n",
    "\n",
    "# Crear un heatmap con las variables más correlacionadas con salary_usd\n",
    "plt.figure(figsize=(12,10))\n",
    "sns.heatmap(corr_matrix.loc[corr.index, corr.index], annot=True, cmap='coolwarm')\n",
    "plt.show()'''"
   ]
  },
  {
   "cell_type": "markdown",
   "id": "bf624895",
   "metadata": {},
   "source": [
    "# Modelo Lazy"
   ]
  },
  {
   "cell_type": "code",
   "execution_count": 40,
   "id": "38411dac",
   "metadata": {},
   "outputs": [
    {
     "name": "stderr",
     "output_type": "stream",
     "text": [
      "100%|██████████| 42/42 [00:05<00:00,  7.44it/s]"
     ]
    },
    {
     "name": "stdout",
     "output_type": "stream",
     "text": [
      "                                                            Adjusted R-Squared  \\\n",
      "Model                                                                            \n",
      "Lars                          698168442509481163906183114995979575195860992.00   \n",
      "RANSACRegressor                               55597888842277934003424067584.00   \n",
      "TransformedTargetRegressor                     3175467926990929956649828352.00   \n",
      "LinearRegression                               3175467926990929956649828352.00   \n",
      "MLPRegressor                                                             37.64   \n",
      "LinearSVR                                                                37.56   \n",
      "KernelRidge                                                              35.31   \n",
      "GaussianProcessRegressor                                                 14.75   \n",
      "SVR                                                                      10.15   \n",
      "QuantileRegressor                                                        10.14   \n",
      "DummyRegressor                                                           10.04   \n",
      "NuSVR                                                                    10.01   \n",
      "ElasticNetCV                                                              9.45   \n",
      "AdaBoostRegressor                                                         8.56   \n",
      "KNeighborsRegressor                                                       8.32   \n",
      "Lasso                                                                     7.43   \n",
      "SGDRegressor                                                              7.39   \n",
      "PoissonRegressor                                                          7.33   \n",
      "Ridge                                                                     7.31   \n",
      "PassiveAggressiveRegressor                                                7.30   \n",
      "HuberRegressor                                                            7.27   \n",
      "RidgeCV                                                                   7.27   \n",
      "ExtraTreeRegressor                                                        7.23   \n",
      "OrthogonalMatchingPursuitCV                                               7.18   \n",
      "ExtraTreesRegressor                                                       7.13   \n",
      "XGBRegressor                                                              7.02   \n",
      "DecisionTreeRegressor                                                     6.93   \n",
      "LassoLars                                                                 6.89   \n",
      "OrthogonalMatchingPursuit                                                 6.86   \n",
      "LassoLarsCV                                                               6.85   \n",
      "LassoCV                                                                   6.85   \n",
      "LarsCV                                                                    6.82   \n",
      "LassoLarsIC                                                               6.75   \n",
      "BayesianRidge                                                             6.70   \n",
      "GradientBoostingRegressor                                                 6.58   \n",
      "ElasticNet                                                                6.54   \n",
      "BaggingRegressor                                                          6.46   \n",
      "TweedieRegressor                                                          6.45   \n",
      "RandomForestRegressor                                                     6.39   \n",
      "GammaRegressor                                                            6.29   \n",
      "HistGradientBoostingRegressor                                             5.99   \n",
      "LGBMRegressor                                                             5.99   \n",
      "\n",
      "                                                                     R-Squared  \\\n",
      "Model                                                                            \n",
      "Lars                          -77574271389942349344349165158877241867763712.00   \n",
      "RANSACRegressor                               -6177543204697548222602674176.00   \n",
      "TransformedTargetRegressor                     -352829769665658868801208320.00   \n",
      "LinearRegression                               -352829769665658868801208320.00   \n",
      "MLPRegressor                                                             -3.07   \n",
      "LinearSVR                                                                -3.06   \n",
      "KernelRidge                                                              -2.81   \n",
      "GaussianProcessRegressor                                                 -0.53   \n",
      "SVR                                                                      -0.02   \n",
      "QuantileRegressor                                                        -0.02   \n",
      "DummyRegressor                                                           -0.00   \n",
      "NuSVR                                                                    -0.00   \n",
      "ElasticNetCV                                                              0.06   \n",
      "AdaBoostRegressor                                                         0.16   \n",
      "KNeighborsRegressor                                                       0.19   \n",
      "Lasso                                                                     0.29   \n",
      "SGDRegressor                                                              0.29   \n",
      "PoissonRegressor                                                          0.30   \n",
      "Ridge                                                                     0.30   \n",
      "PassiveAggressiveRegressor                                                0.30   \n",
      "HuberRegressor                                                            0.30   \n",
      "RidgeCV                                                                   0.30   \n",
      "ExtraTreeRegressor                                                        0.31   \n",
      "OrthogonalMatchingPursuitCV                                               0.31   \n",
      "ExtraTreesRegressor                                                       0.32   \n",
      "XGBRegressor                                                              0.33   \n",
      "DecisionTreeRegressor                                                     0.34   \n",
      "LassoLars                                                                 0.35   \n",
      "OrthogonalMatchingPursuit                                                 0.35   \n",
      "LassoLarsCV                                                               0.35   \n",
      "LassoCV                                                                   0.35   \n",
      "LarsCV                                                                    0.35   \n",
      "LassoLarsIC                                                               0.36   \n",
      "BayesianRidge                                                             0.37   \n",
      "GradientBoostingRegressor                                                 0.38   \n",
      "ElasticNet                                                                0.38   \n",
      "BaggingRegressor                                                          0.39   \n",
      "TweedieRegressor                                                          0.39   \n",
      "RandomForestRegressor                                                     0.40   \n",
      "GammaRegressor                                                            0.41   \n",
      "HistGradientBoostingRegressor                                             0.45   \n",
      "LGBMRegressor                                                             0.45   \n",
      "\n",
      "                                                        RMSE  Time Taken  \n",
      "Model                                                                     \n",
      "Lars                          550938966124920312443174912.00        0.05  \n",
      "RANSACRegressor                       4916460257110446080.00        0.20  \n",
      "TransformedTargetRegressor            1174971270463649024.00        0.02  \n",
      "LinearRegression                      1174971270463649024.00        0.02  \n",
      "MLPRegressor                                       126213.16        0.43  \n",
      "LinearSVR                                          126076.52        0.02  \n",
      "KernelRidge                                        122135.85        0.02  \n",
      "GaussianProcessRegressor                            77308.83        0.09  \n",
      "SVR                                                 63055.83        0.03  \n",
      "QuantileRegressor                                   63043.13        1.08  \n",
      "DummyRegressor                                      62674.87        0.02  \n",
      "NuSVR                                               62589.01        0.04  \n",
      "ElasticNetCV                                        60596.07        0.07  \n",
      "AdaBoostRegressor                                   57315.75        0.05  \n",
      "KNeighborsRegressor                                 56416.25        0.14  \n",
      "Lasso                                               52856.95        0.20  \n",
      "SGDRegressor                                        52720.43        0.02  \n",
      "PoissonRegressor                                    52445.28        0.05  \n",
      "Ridge                                               52387.49        0.01  \n",
      "PassiveAggressiveRegressor                          52316.96        0.19  \n",
      "HuberRegressor                                      52229.62        0.07  \n",
      "RidgeCV                                             52222.77        0.02  \n",
      "ExtraTreeRegressor                                  52051.72        0.02  \n",
      "OrthogonalMatchingPursuitCV                         51827.50        0.02  \n",
      "ExtraTreesRegressor                                 51605.68        0.29  \n",
      "XGBRegressor                                        51178.36        0.15  \n",
      "DecisionTreeRegressor                               50795.73        0.02  \n",
      "LassoLars                                           50621.65        0.03  \n",
      "OrthogonalMatchingPursuit                           50467.78        0.02  \n",
      "LassoLarsCV                                         50450.36        0.08  \n",
      "LassoCV                                             50416.66        0.19  \n",
      "LarsCV                                              50299.63        0.14  \n",
      "LassoLarsIC                                         50010.37        0.06  \n",
      "BayesianRidge                                       49782.86        0.02  \n",
      "GradientBoostingRegressor                           49233.87        0.13  \n",
      "ElasticNet                                          49092.01        0.01  \n",
      "BaggingRegressor                                    48741.12        0.04  \n",
      "TweedieRegressor                                    48654.57        0.03  \n",
      "RandomForestRegressor                               48414.94        0.30  \n",
      "GammaRegressor                                      47962.06        0.02  \n",
      "HistGradientBoostingRegressor                       46562.07        1.16  \n",
      "LGBMRegressor                                       46562.07        0.08  \n"
     ]
    },
    {
     "name": "stderr",
     "output_type": "stream",
     "text": [
      "\n"
     ]
    }
   ],
   "source": [
    "\n",
    "\n",
    "# Seleccionar las variables predictoras y la variable objetivo\n",
    "X = df.drop(['salary_in_usd'], axis = 1)\n",
    "y = df['salary_in_usd']\n",
    "\n",
    "\n",
    "# Dividir el dataset en conjunto de entrenamiento y conjunto de prueba\n",
    "X_train, X_test, y_train, y_test = train_test_split(X, y, test_size=0.2, random_state=42)\n",
    "\n",
    "# Crear un modelo de regresión lineal\n",
    "reg = LazyRegressor(verbose=0, ignore_warnings=False, custom_metric=None)\n",
    "\n",
    "# Entrenar el modelo con el conjunto de entrenamiento\n",
    "models, predictions = reg.fit(X_train, X_test, y_train, y_test)\n",
    "\n",
    "\n",
    "# Evaluar el modelo usando R2 score\n",
    "#r2 = r2_score(y_test, y_pred)\n",
    "#print(f\"R2 score: {r2}\")\n",
    "print(models)"
   ]
  },
  {
   "cell_type": "code",
   "execution_count": 42,
   "id": "922ad651",
   "metadata": {},
   "outputs": [
    {
     "data": {
      "text/html": [
       "<style>#sk-container-id-3 {color: black;background-color: white;}#sk-container-id-3 pre{padding: 0;}#sk-container-id-3 div.sk-toggleable {background-color: white;}#sk-container-id-3 label.sk-toggleable__label {cursor: pointer;display: block;width: 100%;margin-bottom: 0;padding: 0.3em;box-sizing: border-box;text-align: center;}#sk-container-id-3 label.sk-toggleable__label-arrow:before {content: \"▸\";float: left;margin-right: 0.25em;color: #696969;}#sk-container-id-3 label.sk-toggleable__label-arrow:hover:before {color: black;}#sk-container-id-3 div.sk-estimator:hover label.sk-toggleable__label-arrow:before {color: black;}#sk-container-id-3 div.sk-toggleable__content {max-height: 0;max-width: 0;overflow: hidden;text-align: left;background-color: #f0f8ff;}#sk-container-id-3 div.sk-toggleable__content pre {margin: 0.2em;color: black;border-radius: 0.25em;background-color: #f0f8ff;}#sk-container-id-3 input.sk-toggleable__control:checked~div.sk-toggleable__content {max-height: 200px;max-width: 100%;overflow: auto;}#sk-container-id-3 input.sk-toggleable__control:checked~label.sk-toggleable__label-arrow:before {content: \"▾\";}#sk-container-id-3 div.sk-estimator input.sk-toggleable__control:checked~label.sk-toggleable__label {background-color: #d4ebff;}#sk-container-id-3 div.sk-label input.sk-toggleable__control:checked~label.sk-toggleable__label {background-color: #d4ebff;}#sk-container-id-3 input.sk-hidden--visually {border: 0;clip: rect(1px 1px 1px 1px);clip: rect(1px, 1px, 1px, 1px);height: 1px;margin: -1px;overflow: hidden;padding: 0;position: absolute;width: 1px;}#sk-container-id-3 div.sk-estimator {font-family: monospace;background-color: #f0f8ff;border: 1px dotted black;border-radius: 0.25em;box-sizing: border-box;margin-bottom: 0.5em;}#sk-container-id-3 div.sk-estimator:hover {background-color: #d4ebff;}#sk-container-id-3 div.sk-parallel-item::after {content: \"\";width: 100%;border-bottom: 1px solid gray;flex-grow: 1;}#sk-container-id-3 div.sk-label:hover label.sk-toggleable__label {background-color: #d4ebff;}#sk-container-id-3 div.sk-serial::before {content: \"\";position: absolute;border-left: 1px solid gray;box-sizing: border-box;top: 0;bottom: 0;left: 50%;z-index: 0;}#sk-container-id-3 div.sk-serial {display: flex;flex-direction: column;align-items: center;background-color: white;padding-right: 0.2em;padding-left: 0.2em;position: relative;}#sk-container-id-3 div.sk-item {position: relative;z-index: 1;}#sk-container-id-3 div.sk-parallel {display: flex;align-items: stretch;justify-content: center;background-color: white;position: relative;}#sk-container-id-3 div.sk-item::before, #sk-container-id-3 div.sk-parallel-item::before {content: \"\";position: absolute;border-left: 1px solid gray;box-sizing: border-box;top: 0;bottom: 0;left: 50%;z-index: -1;}#sk-container-id-3 div.sk-parallel-item {display: flex;flex-direction: column;z-index: 1;position: relative;background-color: white;}#sk-container-id-3 div.sk-parallel-item:first-child::after {align-self: flex-end;width: 50%;}#sk-container-id-3 div.sk-parallel-item:last-child::after {align-self: flex-start;width: 50%;}#sk-container-id-3 div.sk-parallel-item:only-child::after {width: 0;}#sk-container-id-3 div.sk-dashed-wrapped {border: 1px dashed gray;margin: 0 0.4em 0.5em 0.4em;box-sizing: border-box;padding-bottom: 0.4em;background-color: white;}#sk-container-id-3 div.sk-label label {font-family: monospace;font-weight: bold;display: inline-block;line-height: 1.2em;}#sk-container-id-3 div.sk-label-container {text-align: center;}#sk-container-id-3 div.sk-container {/* jupyter's `normalize.less` sets `[hidden] { display: none; }` but bootstrap.min.css set `[hidden] { display: none !important; }` so we also need the `!important` here to be able to override the default hidden behavior on the sphinx rendered scikit-learn.org. See: https://github.com/scikit-learn/scikit-learn/issues/21755 */display: inline-block !important;position: relative;}#sk-container-id-3 div.sk-text-repr-fallback {display: none;}</style><div id=\"sk-container-id-3\" class=\"sk-top-container\"><div class=\"sk-text-repr-fallback\"><pre>MLPRegressor(hidden_layer_sizes=(10, 10, 10), max_iter=1000)</pre><b>In a Jupyter environment, please rerun this cell to show the HTML representation or trust the notebook. <br />On GitHub, the HTML representation is unable to render, please try loading this page with nbviewer.org.</b></div><div class=\"sk-container\" hidden><div class=\"sk-item\"><div class=\"sk-estimator sk-toggleable\"><input class=\"sk-toggleable__control sk-hidden--visually\" id=\"sk-estimator-id-3\" type=\"checkbox\" checked><label for=\"sk-estimator-id-3\" class=\"sk-toggleable__label sk-toggleable__label-arrow\">MLPRegressor</label><div class=\"sk-toggleable__content\"><pre>MLPRegressor(hidden_layer_sizes=(10, 10, 10), max_iter=1000)</pre></div></div></div></div></div>"
      ],
      "text/plain": [
       "MLPRegressor(hidden_layer_sizes=(10, 10, 10), max_iter=1000)"
      ]
     },
     "execution_count": 42,
     "metadata": {},
     "output_type": "execute_result"
    }
   ],
   "source": [
    "from sklearn.neural_network import MLPRegressor\n",
    "from sklearn.datasets import make_regression\n",
    "from sklearn.model_selection import train_test_split\n",
    "from sklearn.metrics import mean_squared_error\n",
    "\n",
    "X = df.drop(['salary_in_usd'], axis = 1)\n",
    "y = df['salary_in_usd']\n",
    "\n",
    "\n",
    "mlp = MLPRegressor(hidden_layer_sizes=(10, 10, 10), max_iter=1000)\n",
    "mlp.fit(X, y)\n",
    "\n"
   ]
  },
  {
   "cell_type": "code",
   "execution_count": 43,
   "id": "28d195ac",
   "metadata": {},
   "outputs": [
    {
     "data": {
      "text/html": [
       "<style>#sk-container-id-4 {color: black;background-color: white;}#sk-container-id-4 pre{padding: 0;}#sk-container-id-4 div.sk-toggleable {background-color: white;}#sk-container-id-4 label.sk-toggleable__label {cursor: pointer;display: block;width: 100%;margin-bottom: 0;padding: 0.3em;box-sizing: border-box;text-align: center;}#sk-container-id-4 label.sk-toggleable__label-arrow:before {content: \"▸\";float: left;margin-right: 0.25em;color: #696969;}#sk-container-id-4 label.sk-toggleable__label-arrow:hover:before {color: black;}#sk-container-id-4 div.sk-estimator:hover label.sk-toggleable__label-arrow:before {color: black;}#sk-container-id-4 div.sk-toggleable__content {max-height: 0;max-width: 0;overflow: hidden;text-align: left;background-color: #f0f8ff;}#sk-container-id-4 div.sk-toggleable__content pre {margin: 0.2em;color: black;border-radius: 0.25em;background-color: #f0f8ff;}#sk-container-id-4 input.sk-toggleable__control:checked~div.sk-toggleable__content {max-height: 200px;max-width: 100%;overflow: auto;}#sk-container-id-4 input.sk-toggleable__control:checked~label.sk-toggleable__label-arrow:before {content: \"▾\";}#sk-container-id-4 div.sk-estimator input.sk-toggleable__control:checked~label.sk-toggleable__label {background-color: #d4ebff;}#sk-container-id-4 div.sk-label input.sk-toggleable__control:checked~label.sk-toggleable__label {background-color: #d4ebff;}#sk-container-id-4 input.sk-hidden--visually {border: 0;clip: rect(1px 1px 1px 1px);clip: rect(1px, 1px, 1px, 1px);height: 1px;margin: -1px;overflow: hidden;padding: 0;position: absolute;width: 1px;}#sk-container-id-4 div.sk-estimator {font-family: monospace;background-color: #f0f8ff;border: 1px dotted black;border-radius: 0.25em;box-sizing: border-box;margin-bottom: 0.5em;}#sk-container-id-4 div.sk-estimator:hover {background-color: #d4ebff;}#sk-container-id-4 div.sk-parallel-item::after {content: \"\";width: 100%;border-bottom: 1px solid gray;flex-grow: 1;}#sk-container-id-4 div.sk-label:hover label.sk-toggleable__label {background-color: #d4ebff;}#sk-container-id-4 div.sk-serial::before {content: \"\";position: absolute;border-left: 1px solid gray;box-sizing: border-box;top: 0;bottom: 0;left: 50%;z-index: 0;}#sk-container-id-4 div.sk-serial {display: flex;flex-direction: column;align-items: center;background-color: white;padding-right: 0.2em;padding-left: 0.2em;position: relative;}#sk-container-id-4 div.sk-item {position: relative;z-index: 1;}#sk-container-id-4 div.sk-parallel {display: flex;align-items: stretch;justify-content: center;background-color: white;position: relative;}#sk-container-id-4 div.sk-item::before, #sk-container-id-4 div.sk-parallel-item::before {content: \"\";position: absolute;border-left: 1px solid gray;box-sizing: border-box;top: 0;bottom: 0;left: 50%;z-index: -1;}#sk-container-id-4 div.sk-parallel-item {display: flex;flex-direction: column;z-index: 1;position: relative;background-color: white;}#sk-container-id-4 div.sk-parallel-item:first-child::after {align-self: flex-end;width: 50%;}#sk-container-id-4 div.sk-parallel-item:last-child::after {align-self: flex-start;width: 50%;}#sk-container-id-4 div.sk-parallel-item:only-child::after {width: 0;}#sk-container-id-4 div.sk-dashed-wrapped {border: 1px dashed gray;margin: 0 0.4em 0.5em 0.4em;box-sizing: border-box;padding-bottom: 0.4em;background-color: white;}#sk-container-id-4 div.sk-label label {font-family: monospace;font-weight: bold;display: inline-block;line-height: 1.2em;}#sk-container-id-4 div.sk-label-container {text-align: center;}#sk-container-id-4 div.sk-container {/* jupyter's `normalize.less` sets `[hidden] { display: none; }` but bootstrap.min.css set `[hidden] { display: none !important; }` so we also need the `!important` here to be able to override the default hidden behavior on the sphinx rendered scikit-learn.org. See: https://github.com/scikit-learn/scikit-learn/issues/21755 */display: inline-block !important;position: relative;}#sk-container-id-4 div.sk-text-repr-fallback {display: none;}</style><div id=\"sk-container-id-4\" class=\"sk-top-container\"><div class=\"sk-text-repr-fallback\"><pre>MLPRegressor()</pre><b>In a Jupyter environment, please rerun this cell to show the HTML representation or trust the notebook. <br />On GitHub, the HTML representation is unable to render, please try loading this page with nbviewer.org.</b></div><div class=\"sk-container\" hidden><div class=\"sk-item\"><div class=\"sk-estimator sk-toggleable\"><input class=\"sk-toggleable__control sk-hidden--visually\" id=\"sk-estimator-id-4\" type=\"checkbox\" checked><label for=\"sk-estimator-id-4\" class=\"sk-toggleable__label sk-toggleable__label-arrow\">MLPRegressor</label><div class=\"sk-toggleable__content\"><pre>MLPRegressor()</pre></div></div></div></div></div>"
      ],
      "text/plain": [
       "MLPRegressor()"
      ]
     },
     "execution_count": 43,
     "metadata": {},
     "output_type": "execute_result"
    }
   ],
   "source": [
    "X = df.drop(['salary_in_usd'], axis = 1)\n",
    "y = df['salary_in_usd']\n",
    "\n",
    "model3 = MLPRegressor()\n",
    "model3.fit(X, y)"
   ]
  },
  {
   "cell_type": "code",
   "execution_count": null,
   "id": "8d2554c3",
   "metadata": {},
   "outputs": [],
   "source": []
  },
  {
   "cell_type": "code",
   "execution_count": null,
   "id": "902eabc7",
   "metadata": {},
   "outputs": [],
   "source": []
  },
  {
   "cell_type": "code",
   "execution_count": 44,
   "id": "17134fb2",
   "metadata": {},
   "outputs": [
    {
     "data": {
      "text/html": [
       "<style>#sk-container-id-5 {color: black;background-color: white;}#sk-container-id-5 pre{padding: 0;}#sk-container-id-5 div.sk-toggleable {background-color: white;}#sk-container-id-5 label.sk-toggleable__label {cursor: pointer;display: block;width: 100%;margin-bottom: 0;padding: 0.3em;box-sizing: border-box;text-align: center;}#sk-container-id-5 label.sk-toggleable__label-arrow:before {content: \"▸\";float: left;margin-right: 0.25em;color: #696969;}#sk-container-id-5 label.sk-toggleable__label-arrow:hover:before {color: black;}#sk-container-id-5 div.sk-estimator:hover label.sk-toggleable__label-arrow:before {color: black;}#sk-container-id-5 div.sk-toggleable__content {max-height: 0;max-width: 0;overflow: hidden;text-align: left;background-color: #f0f8ff;}#sk-container-id-5 div.sk-toggleable__content pre {margin: 0.2em;color: black;border-radius: 0.25em;background-color: #f0f8ff;}#sk-container-id-5 input.sk-toggleable__control:checked~div.sk-toggleable__content {max-height: 200px;max-width: 100%;overflow: auto;}#sk-container-id-5 input.sk-toggleable__control:checked~label.sk-toggleable__label-arrow:before {content: \"▾\";}#sk-container-id-5 div.sk-estimator input.sk-toggleable__control:checked~label.sk-toggleable__label {background-color: #d4ebff;}#sk-container-id-5 div.sk-label input.sk-toggleable__control:checked~label.sk-toggleable__label {background-color: #d4ebff;}#sk-container-id-5 input.sk-hidden--visually {border: 0;clip: rect(1px 1px 1px 1px);clip: rect(1px, 1px, 1px, 1px);height: 1px;margin: -1px;overflow: hidden;padding: 0;position: absolute;width: 1px;}#sk-container-id-5 div.sk-estimator {font-family: monospace;background-color: #f0f8ff;border: 1px dotted black;border-radius: 0.25em;box-sizing: border-box;margin-bottom: 0.5em;}#sk-container-id-5 div.sk-estimator:hover {background-color: #d4ebff;}#sk-container-id-5 div.sk-parallel-item::after {content: \"\";width: 100%;border-bottom: 1px solid gray;flex-grow: 1;}#sk-container-id-5 div.sk-label:hover label.sk-toggleable__label {background-color: #d4ebff;}#sk-container-id-5 div.sk-serial::before {content: \"\";position: absolute;border-left: 1px solid gray;box-sizing: border-box;top: 0;bottom: 0;left: 50%;z-index: 0;}#sk-container-id-5 div.sk-serial {display: flex;flex-direction: column;align-items: center;background-color: white;padding-right: 0.2em;padding-left: 0.2em;position: relative;}#sk-container-id-5 div.sk-item {position: relative;z-index: 1;}#sk-container-id-5 div.sk-parallel {display: flex;align-items: stretch;justify-content: center;background-color: white;position: relative;}#sk-container-id-5 div.sk-item::before, #sk-container-id-5 div.sk-parallel-item::before {content: \"\";position: absolute;border-left: 1px solid gray;box-sizing: border-box;top: 0;bottom: 0;left: 50%;z-index: -1;}#sk-container-id-5 div.sk-parallel-item {display: flex;flex-direction: column;z-index: 1;position: relative;background-color: white;}#sk-container-id-5 div.sk-parallel-item:first-child::after {align-self: flex-end;width: 50%;}#sk-container-id-5 div.sk-parallel-item:last-child::after {align-self: flex-start;width: 50%;}#sk-container-id-5 div.sk-parallel-item:only-child::after {width: 0;}#sk-container-id-5 div.sk-dashed-wrapped {border: 1px dashed gray;margin: 0 0.4em 0.5em 0.4em;box-sizing: border-box;padding-bottom: 0.4em;background-color: white;}#sk-container-id-5 div.sk-label label {font-family: monospace;font-weight: bold;display: inline-block;line-height: 1.2em;}#sk-container-id-5 div.sk-label-container {text-align: center;}#sk-container-id-5 div.sk-container {/* jupyter's `normalize.less` sets `[hidden] { display: none; }` but bootstrap.min.css set `[hidden] { display: none !important; }` so we also need the `!important` here to be able to override the default hidden behavior on the sphinx rendered scikit-learn.org. See: https://github.com/scikit-learn/scikit-learn/issues/21755 */display: inline-block !important;position: relative;}#sk-container-id-5 div.sk-text-repr-fallback {display: none;}</style><div id=\"sk-container-id-5\" class=\"sk-top-container\"><div class=\"sk-text-repr-fallback\"><pre>GradientBoostingRegressor()</pre><b>In a Jupyter environment, please rerun this cell to show the HTML representation or trust the notebook. <br />On GitHub, the HTML representation is unable to render, please try loading this page with nbviewer.org.</b></div><div class=\"sk-container\" hidden><div class=\"sk-item\"><div class=\"sk-estimator sk-toggleable\"><input class=\"sk-toggleable__control sk-hidden--visually\" id=\"sk-estimator-id-5\" type=\"checkbox\" checked><label for=\"sk-estimator-id-5\" class=\"sk-toggleable__label sk-toggleable__label-arrow\">GradientBoostingRegressor</label><div class=\"sk-toggleable__content\"><pre>GradientBoostingRegressor()</pre></div></div></div></div></div>"
      ],
      "text/plain": [
       "GradientBoostingRegressor()"
      ]
     },
     "execution_count": 44,
     "metadata": {},
     "output_type": "execute_result"
    }
   ],
   "source": [
    "from sklearn.ensemble import GradientBoostingRegressor\n",
    "\n",
    "# Definir los datos de entrenamiento y prueba\n",
    "X = df.drop(['salary_in_usd'], axis = 1)\n",
    "y = df['salary_in_usd']\n",
    "\n",
    "\n",
    "\n",
    "\n",
    "# Crear el modelo de Gradient Boosting Regressor\n",
    "model3 = GradientBoostingRegressor(n_estimators=100, learning_rate=0.1, max_depth=3)\n",
    "\n",
    "# Entrenar el modelo con los datos de entrenamiento\n",
    "model3.fit(X, y)\n",
    "\n",
    "# Realizar predicciones en los datos de prueba\n",
    "#y_pred = model.predict(X_test)\n",
    "#y_pred"
   ]
  },
  {
   "cell_type": "code",
   "execution_count": 45,
   "id": "e4ca9d62",
   "metadata": {},
   "outputs": [],
   "source": [
    "m3 = model3.predict(df_test)"
   ]
  },
  {
   "cell_type": "code",
   "execution_count": 46,
   "id": "ea7ec24b",
   "metadata": {},
   "outputs": [
    {
     "data": {
      "text/plain": [
       "array([ 1.31673267e+05,  1.38903919e+05,  1.38903919e+05,  7.20021098e+04,\n",
       "        3.41126344e+04,  8.76857534e+04,  1.05577812e+05,  5.62791158e+04,\n",
       "        5.12910926e+04,  1.74173998e+05,  4.20037771e+04,  1.96941106e+05,\n",
       "        6.13069506e+04,  3.51371609e+04,  9.81655664e+04,  5.02029232e+04,\n",
       "        1.02782066e+05,  1.48990233e+05,  5.13921130e+04,  5.29682278e+04,\n",
       "        5.52926635e+04,  5.65505289e+04,  7.08975430e+04,  1.41906185e+05,\n",
       "       -2.01782857e-01,  3.52177786e+04,  9.94680476e+04,  1.71815598e+05,\n",
       "        6.48718533e+04,  1.33724784e+05,  1.30876076e+05,  1.30559742e+05,\n",
       "        1.22654075e+05,  5.93000701e+04,  4.70801997e+04,  6.70760140e+04,\n",
       "        1.71551745e+05,  1.91940869e+04,  6.10963178e+04,  1.67548268e+05,\n",
       "        2.32877036e+04,  1.84217129e+04,  1.42923930e+05,  1.82014889e+05,\n",
       "        9.77461142e+04,  2.28588063e+05,  1.30812843e+05,  5.53257946e+04,\n",
       "        1.30559742e+05,  3.27682820e+04,  1.46727100e+05,  6.03738765e+04,\n",
       "        1.45921300e+05,  1.35001144e+05,  1.04471847e+05,  6.84919110e+04,\n",
       "        1.57014642e+05,  1.49490187e+05,  1.19951279e+05,  1.42548021e+05,\n",
       "        1.19951279e+05,  2.36523286e+05,  1.42548021e+05,  1.39001556e+05,\n",
       "        1.66911554e+05,  1.59973027e+05,  1.59973027e+05,  1.42548021e+05,\n",
       "        1.07374766e+05,  7.30463801e+04,  1.45921300e+05,  1.68190104e+05,\n",
       "        8.72359124e+04,  6.04190299e+04,  8.51691415e+04,  1.31454679e+05,\n",
       "        6.00831645e+04,  7.20383760e+04,  9.75056836e+04,  1.43546899e+05,\n",
       "        3.11793404e+04,  4.32066307e+04,  1.05887448e+05,  1.76571554e+05,\n",
       "        1.17048360e+05,  7.24014225e+04,  7.24014225e+04,  1.57014642e+05,\n",
       "        1.42548021e+05,  4.63177837e+04,  4.73218588e+04,  6.72545290e+04,\n",
       "        9.20409310e+04,  5.74329493e+04,  1.42548021e+05,  1.45668198e+05,\n",
       "        3.75249913e+04,  7.16532860e+04,  6.22209545e+04,  1.39001556e+05,\n",
       "        1.42548021e+05,  1.19951279e+05,  1.19951279e+05,  1.59973027e+05,\n",
       "        1.57014642e+05,  5.06846932e+04,  1.07374766e+05])"
      ]
     },
     "execution_count": 46,
     "metadata": {},
     "output_type": "execute_result"
    }
   ],
   "source": [
    "m3"
   ]
  },
  {
   "cell_type": "code",
   "execution_count": 49,
   "id": "fcfe0aa3",
   "metadata": {},
   "outputs": [],
   "source": [
    "muestra3['salary_in_usd'] = m3"
   ]
  },
  {
   "cell_type": "code",
   "execution_count": 48,
   "id": "c3311a35",
   "metadata": {},
   "outputs": [],
   "source": [
    "muestra3 = pd.read_csv('../data/muestra.csv')"
   ]
  },
  {
   "cell_type": "code",
   "execution_count": 50,
   "id": "4fc292a9",
   "metadata": {},
   "outputs": [],
   "source": [
    "muestra3.to_csv('competition4.csv', index = False)"
   ]
  },
  {
   "cell_type": "code",
   "execution_count": null,
   "id": "18c57896",
   "metadata": {},
   "outputs": [],
   "source": []
  },
  {
   "cell_type": "code",
   "execution_count": 32,
   "id": "5c96f457",
   "metadata": {},
   "outputs": [
    {
     "data": {
      "text/plain": [
       "Index(['company_location_AE', 'company_location_AS', 'company_location_BE',\n",
       "       'company_location_CH', 'company_location_CL', 'company_location_DZ',\n",
       "       'company_location_EE', 'company_location_HN', 'company_location_HU',\n",
       "       'company_location_IE', 'company_location_IR', 'company_location_KE',\n",
       "       'company_location_LU', 'company_location_MD', 'company_location_MT',\n",
       "       'company_location_NG', 'company_location_NL', 'company_location_NZ',\n",
       "       'company_location_PK', 'company_location_PT', 'company_location_RO',\n",
       "       'company_location_SG', 'company_location_SI', 'company_location_TR',\n",
       "       'company_location_UA', 'company_location_VN', 'employee_residence_AE',\n",
       "       'employee_residence_AT', 'employee_residence_BE',\n",
       "       'employee_residence_BG', 'employee_residence_BO',\n",
       "       'employee_residence_CH', 'employee_residence_CL',\n",
       "       'employee_residence_CZ', 'employee_residence_DZ',\n",
       "       'employee_residence_EE', 'employee_residence_HK',\n",
       "       'employee_residence_HN', 'employee_residence_IE',\n",
       "       'employee_residence_IR', 'employee_residence_JE',\n",
       "       'employee_residence_KE', 'employee_residence_LU',\n",
       "       'employee_residence_MD', 'employee_residence_MT',\n",
       "       'employee_residence_MY', 'employee_residence_NG',\n",
       "       'employee_residence_NZ', 'employee_residence_PK',\n",
       "       'employee_residence_PR', 'employee_residence_PT',\n",
       "       'employee_residence_RO', 'employee_residence_RS',\n",
       "       'employee_residence_SI', 'employee_residence_TR',\n",
       "       'employee_residence_UA', 'employee_residence_VN', 'employment_type_FL',\n",
       "       'salary_in_usd'],\n",
       "      dtype='object')"
      ]
     },
     "execution_count": 32,
     "metadata": {},
     "output_type": "execute_result"
    }
   ],
   "source": [
    "df.columns.difference(df_test.columns)"
   ]
  },
  {
   "cell_type": "code",
   "execution_count": 33,
   "id": "1367d71a",
   "metadata": {},
   "outputs": [],
   "source": [
    "#vamos a crear las columnas que faltan en dftest respecto a df\n",
    "def create_missing_columns(df, dftest):\n",
    "    missing_cols = set(df.columns) - set(dftest.columns)\n",
    "    for c in missing_cols:\n",
    "        dftest[c] = 0\n",
    "    dftest = dftest[df.columns]\n",
    "    return dftest\n",
    "\n",
    "df_test = create_missing_columns(df, df_test)\n",
    "#elimino la columna salary_in_usd\n",
    "df_test.drop(['salary_in_usd'], axis=1, inplace=True)"
   ]
  },
  {
   "cell_type": "code",
   "execution_count": 35,
   "id": "24261ae7",
   "metadata": {},
   "outputs": [],
   "source": [
    "muestra2 = pd.read_csv('../data/muestra.csv')"
   ]
  },
  {
   "cell_type": "code",
   "execution_count": 36,
   "id": "7645395f",
   "metadata": {},
   "outputs": [],
   "source": [
    "m2 = model2.predict(df_test)"
   ]
  },
  {
   "cell_type": "code",
   "execution_count": 37,
   "id": "17b8eb88",
   "metadata": {},
   "outputs": [],
   "source": [
    "muestra2['salary_in_usd'] = m2"
   ]
  },
  {
   "cell_type": "code",
   "execution_count": 38,
   "id": "7c5d3ea4",
   "metadata": {},
   "outputs": [],
   "source": [
    "muestra2.to_csv('competition3.csv', index = False)"
   ]
  },
  {
   "cell_type": "code",
   "execution_count": null,
   "id": "d587e16f",
   "metadata": {},
   "outputs": [],
   "source": []
  },
  {
   "cell_type": "code",
   "execution_count": null,
   "id": "f2fb0dce",
   "metadata": {},
   "outputs": [],
   "source": [
    "muestra = pd.read_csv('../data/muestra.csv')"
   ]
  },
  {
   "cell_type": "code",
   "execution_count": null,
   "id": "f862b966",
   "metadata": {},
   "outputs": [],
   "source": [
    "m = model2.predict(df_test)"
   ]
  },
  {
   "cell_type": "code",
   "execution_count": null,
   "id": "2aadaff4",
   "metadata": {},
   "outputs": [],
   "source": [
    "muestra['salary_in_usd'] = m2"
   ]
  },
  {
   "cell_type": "code",
   "execution_count": null,
   "id": "cd81df63",
   "metadata": {},
   "outputs": [],
   "source": [
    "muestra.to_csv('competition2.csv', index = False)"
   ]
  },
  {
   "cell_type": "code",
   "execution_count": 52,
   "id": "115a80b2",
   "metadata": {},
   "outputs": [
    {
     "data": {
      "text/html": [
       "<div>\n",
       "<style scoped>\n",
       "    .dataframe tbody tr th:only-of-type {\n",
       "        vertical-align: middle;\n",
       "    }\n",
       "\n",
       "    .dataframe tbody tr th {\n",
       "        vertical-align: top;\n",
       "    }\n",
       "\n",
       "    .dataframe thead th {\n",
       "        text-align: right;\n",
       "    }\n",
       "</style>\n",
       "<table border=\"1\" class=\"dataframe\">\n",
       "  <thead>\n",
       "    <tr style=\"text-align: right;\">\n",
       "      <th></th>\n",
       "      <th>id</th>\n",
       "      <th>salary_in_usd</th>\n",
       "    </tr>\n",
       "  </thead>\n",
       "  <tbody>\n",
       "    <tr>\n",
       "      <th>0</th>\n",
       "      <td>0</td>\n",
       "      <td>131673.27</td>\n",
       "    </tr>\n",
       "    <tr>\n",
       "      <th>1</th>\n",
       "      <td>1</td>\n",
       "      <td>138903.92</td>\n",
       "    </tr>\n",
       "    <tr>\n",
       "      <th>2</th>\n",
       "      <td>2</td>\n",
       "      <td>138903.92</td>\n",
       "    </tr>\n",
       "    <tr>\n",
       "      <th>3</th>\n",
       "      <td>3</td>\n",
       "      <td>72002.11</td>\n",
       "    </tr>\n",
       "    <tr>\n",
       "      <th>4</th>\n",
       "      <td>4</td>\n",
       "      <td>34112.63</td>\n",
       "    </tr>\n",
       "  </tbody>\n",
       "</table>\n",
       "</div>"
      ],
      "text/plain": [
       "   id  salary_in_usd\n",
       "0   0      131673.27\n",
       "1   1      138903.92\n",
       "2   2      138903.92\n",
       "3   3       72002.11\n",
       "4   4       34112.63"
      ]
     },
     "execution_count": 52,
     "metadata": {},
     "output_type": "execute_result"
    }
   ],
   "source": [
    "muestra3.head()"
   ]
  },
  {
   "cell_type": "code",
   "execution_count": null,
   "id": "83ba1981",
   "metadata": {},
   "outputs": [],
   "source": []
  }
 ],
 "metadata": {
  "kernelspec": {
   "display_name": "Python 3 (ipykernel)",
   "language": "python",
   "name": "python3"
  },
  "language_info": {
   "codemirror_mode": {
    "name": "ipython",
    "version": 3
   },
   "file_extension": ".py",
   "mimetype": "text/x-python",
   "name": "python",
   "nbconvert_exporter": "python",
   "pygments_lexer": "ipython3",
   "version": "3.9.7"
  }
 },
 "nbformat": 4,
 "nbformat_minor": 5
}
