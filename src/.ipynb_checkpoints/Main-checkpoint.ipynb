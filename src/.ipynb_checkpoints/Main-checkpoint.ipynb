{
 "cells": [
  {
   "cell_type": "markdown",
   "id": "80806dac",
   "metadata": {},
   "source": [
    "# Libraries\n"
   ]
  },
  {
   "cell_type": "code",
   "execution_count": 1,
   "id": "8b693f9e",
   "metadata": {
    "scrolled": true
   },
   "outputs": [
    {
     "name": "stdout",
     "output_type": "stream",
     "text": [
      "Requirement already satisfied: lazypredict in c:\\users\\usuario\\anaconda3\\lib\\site-packages (0.2.12)\n",
      "Requirement already satisfied: lightgbm in c:\\users\\usuario\\anaconda3\\lib\\site-packages (from lazypredict) (3.3.5)\n",
      "Requirement already satisfied: tqdm in c:\\users\\usuario\\anaconda3\\lib\\site-packages (from lazypredict) (4.62.3)\n",
      "Requirement already satisfied: scikit-learn in c:\\users\\usuario\\anaconda3\\lib\\site-packages (from lazypredict) (1.2.1)\n",
      "Requirement already satisfied: click in c:\\users\\usuario\\anaconda3\\lib\\site-packages (from lazypredict) (8.0.3)\n",
      "Requirement already satisfied: joblib in c:\\users\\usuario\\anaconda3\\lib\\site-packages (from lazypredict) (1.2.0)\n",
      "Requirement already satisfied: xgboost in c:\\users\\usuario\\anaconda3\\lib\\site-packages (from lazypredict) (1.7.4)\n",
      "Requirement already satisfied: pandas in c:\\users\\usuario\\anaconda3\\lib\\site-packages (from lazypredict) (1.3.4)\n",
      "Requirement already satisfied: colorama in c:\\users\\usuario\\anaconda3\\lib\\site-packages (from click->lazypredict) (0.4.4)\n",
      "Requirement already satisfied: scipy in c:\\users\\usuario\\anaconda3\\lib\\site-packages (from lightgbm->lazypredict) (1.7.1)\n",
      "Requirement already satisfied: numpy in c:\\users\\usuario\\anaconda3\\lib\\site-packages (from lightgbm->lazypredict) (1.20.3)\n",
      "Requirement already satisfied: wheel in c:\\users\\usuario\\anaconda3\\lib\\site-packages (from lightgbm->lazypredict) (0.37.0)\n",
      "Requirement already satisfied: threadpoolctl>=2.0.0 in c:\\users\\usuario\\anaconda3\\lib\\site-packages (from scikit-learn->lazypredict) (2.2.0)\n",
      "Requirement already satisfied: pytz>=2017.3 in c:\\users\\usuario\\anaconda3\\lib\\site-packages (from pandas->lazypredict) (2021.3)\n",
      "Requirement already satisfied: python-dateutil>=2.7.3 in c:\\users\\usuario\\anaconda3\\lib\\site-packages (from pandas->lazypredict) (2.8.2)\n",
      "Requirement already satisfied: six>=1.5 in c:\\users\\usuario\\anaconda3\\lib\\site-packages (from python-dateutil>=2.7.3->pandas->lazypredict) (1.16.0)\n",
      "Note: you may need to restart the kernel to use updated packages.\n"
     ]
    }
   ],
   "source": [
    "%pip install lazypredict\n",
    "\n",
    "import pandas as pd\n",
    "import numpy as np\n",
    "import re\n",
    "import seaborn as sns\n",
    "import matplotlib.pyplot as plt\n",
    "import math\n",
    "\n",
    "from sklearn.linear_model import LinearRegression\n",
    "from sklearn.model_selection import train_test_split\n",
    "from sklearn.metrics import r2_score\n",
    "from lazypredict.Supervised import LazyRegressor\n",
    "from sklearn.metrics import mean_squared_error\n",
    "from sklearn.preprocessing import StandardScaler\n",
    "\n",
    "\n",
    "import warnings\n",
    "warnings.filterwarnings(\"ignore\")"
   ]
  },
  {
   "cell_type": "markdown",
   "id": "f96f6809",
   "metadata": {},
   "source": [
    "# Loading Data\n"
   ]
  },
  {
   "cell_type": "code",
   "execution_count": 2,
   "id": "bc89c1e4",
   "metadata": {},
   "outputs": [],
   "source": [
    "#load data\n",
    "\n",
    "df= pd.read_csv('../data/salaries_data.csv')\n",
    "df_test = pd.read_csv('../data/testeo.csv')"
   ]
  },
  {
   "cell_type": "markdown",
   "id": "d05083cb",
   "metadata": {},
   "source": [
    "# Data Exploration"
   ]
  },
  {
   "cell_type": "code",
   "execution_count": 3,
   "id": "2e2881a1",
   "metadata": {},
   "outputs": [],
   "source": [
    "df= df.drop(['salary', 'salary_currency'], axis = 1)\n"
   ]
  },
  {
   "cell_type": "code",
   "execution_count": 8,
   "id": "4f7506c9",
   "metadata": {},
   "outputs": [
    {
     "data": {
      "text/html": [
       "<div>\n",
       "<style scoped>\n",
       "    .dataframe tbody tr th:only-of-type {\n",
       "        vertical-align: middle;\n",
       "    }\n",
       "\n",
       "    .dataframe tbody tr th {\n",
       "        vertical-align: top;\n",
       "    }\n",
       "\n",
       "    .dataframe thead th {\n",
       "        text-align: right;\n",
       "    }\n",
       "</style>\n",
       "<table border=\"1\" class=\"dataframe\">\n",
       "  <thead>\n",
       "    <tr style=\"text-align: right;\">\n",
       "      <th></th>\n",
       "      <th>work_year</th>\n",
       "      <th>experience_level</th>\n",
       "      <th>employment_type</th>\n",
       "      <th>job_title</th>\n",
       "      <th>salary_in_usd</th>\n",
       "      <th>employee_residence</th>\n",
       "      <th>remote_ratio</th>\n",
       "      <th>company_location</th>\n",
       "      <th>company_size</th>\n",
       "    </tr>\n",
       "  </thead>\n",
       "  <tbody>\n",
       "    <tr>\n",
       "      <th>0</th>\n",
       "      <td>2022</td>\n",
       "      <td>SE</td>\n",
       "      <td>FT</td>\n",
       "      <td>Data Engineer</td>\n",
       "      <td>140250</td>\n",
       "      <td>US</td>\n",
       "      <td>100</td>\n",
       "      <td>US</td>\n",
       "      <td>M</td>\n",
       "    </tr>\n",
       "    <tr>\n",
       "      <th>1</th>\n",
       "      <td>2022</td>\n",
       "      <td>SE</td>\n",
       "      <td>FT</td>\n",
       "      <td>Data Engineer</td>\n",
       "      <td>135000</td>\n",
       "      <td>US</td>\n",
       "      <td>100</td>\n",
       "      <td>US</td>\n",
       "      <td>M</td>\n",
       "    </tr>\n",
       "    <tr>\n",
       "      <th>2</th>\n",
       "      <td>2021</td>\n",
       "      <td>MI</td>\n",
       "      <td>FT</td>\n",
       "      <td>BI Data Analyst</td>\n",
       "      <td>100000</td>\n",
       "      <td>US</td>\n",
       "      <td>100</td>\n",
       "      <td>US</td>\n",
       "      <td>M</td>\n",
       "    </tr>\n",
       "    <tr>\n",
       "      <th>3</th>\n",
       "      <td>2021</td>\n",
       "      <td>MI</td>\n",
       "      <td>CT</td>\n",
       "      <td>ML Engineer</td>\n",
       "      <td>270000</td>\n",
       "      <td>US</td>\n",
       "      <td>100</td>\n",
       "      <td>US</td>\n",
       "      <td>L</td>\n",
       "    </tr>\n",
       "    <tr>\n",
       "      <th>4</th>\n",
       "      <td>2021</td>\n",
       "      <td>MI</td>\n",
       "      <td>FT</td>\n",
       "      <td>Data Engineer</td>\n",
       "      <td>26005</td>\n",
       "      <td>RO</td>\n",
       "      <td>0</td>\n",
       "      <td>US</td>\n",
       "      <td>L</td>\n",
       "    </tr>\n",
       "  </tbody>\n",
       "</table>\n",
       "</div>"
      ],
      "text/plain": [
       "   work_year experience_level employment_type        job_title  salary_in_usd  \\\n",
       "0       2022               SE              FT    Data Engineer         140250   \n",
       "1       2022               SE              FT    Data Engineer         135000   \n",
       "2       2021               MI              FT  BI Data Analyst         100000   \n",
       "3       2021               MI              CT      ML Engineer         270000   \n",
       "4       2021               MI              FT    Data Engineer          26005   \n",
       "\n",
       "  employee_residence  remote_ratio company_location company_size  \n",
       "0                 US           100               US            M  \n",
       "1                 US           100               US            M  \n",
       "2                 US           100               US            M  \n",
       "3                 US           100               US            L  \n",
       "4                 RO             0               US            L  "
      ]
     },
     "execution_count": 8,
     "metadata": {},
     "output_type": "execute_result"
    }
   ],
   "source": [
    "df.head()"
   ]
  },
  {
   "cell_type": "code",
   "execution_count": 6,
   "id": "19ef6a14",
   "metadata": {},
   "outputs": [
    {
     "data": {
      "text/html": [
       "<div>\n",
       "<style scoped>\n",
       "    .dataframe tbody tr th:only-of-type {\n",
       "        vertical-align: middle;\n",
       "    }\n",
       "\n",
       "    .dataframe tbody tr th {\n",
       "        vertical-align: top;\n",
       "    }\n",
       "\n",
       "    .dataframe thead th {\n",
       "        text-align: right;\n",
       "    }\n",
       "</style>\n",
       "<table border=\"1\" class=\"dataframe\">\n",
       "  <thead>\n",
       "    <tr style=\"text-align: right;\">\n",
       "      <th></th>\n",
       "      <th>work_year</th>\n",
       "      <th>experience_level</th>\n",
       "      <th>employment_type</th>\n",
       "      <th>job_title</th>\n",
       "      <th>employee_residence</th>\n",
       "      <th>remote_ratio</th>\n",
       "      <th>company_location</th>\n",
       "      <th>company_size</th>\n",
       "    </tr>\n",
       "  </thead>\n",
       "  <tbody>\n",
       "    <tr>\n",
       "      <th>0</th>\n",
       "      <td>2020</td>\n",
       "      <td>SE</td>\n",
       "      <td>FT</td>\n",
       "      <td>Machine Learning Scientist</td>\n",
       "      <td>JP</td>\n",
       "      <td>0</td>\n",
       "      <td>JP</td>\n",
       "      <td>S</td>\n",
       "    </tr>\n",
       "    <tr>\n",
       "      <th>1</th>\n",
       "      <td>2020</td>\n",
       "      <td>MI</td>\n",
       "      <td>FT</td>\n",
       "      <td>Lead Data Analyst</td>\n",
       "      <td>US</td>\n",
       "      <td>100</td>\n",
       "      <td>US</td>\n",
       "      <td>L</td>\n",
       "    </tr>\n",
       "    <tr>\n",
       "      <th>2</th>\n",
       "      <td>2020</td>\n",
       "      <td>MI</td>\n",
       "      <td>FT</td>\n",
       "      <td>Data Analyst</td>\n",
       "      <td>US</td>\n",
       "      <td>100</td>\n",
       "      <td>US</td>\n",
       "      <td>L</td>\n",
       "    </tr>\n",
       "    <tr>\n",
       "      <th>3</th>\n",
       "      <td>2020</td>\n",
       "      <td>MI</td>\n",
       "      <td>FT</td>\n",
       "      <td>Machine Learning Engineer</td>\n",
       "      <td>CN</td>\n",
       "      <td>0</td>\n",
       "      <td>CN</td>\n",
       "      <td>M</td>\n",
       "    </tr>\n",
       "    <tr>\n",
       "      <th>4</th>\n",
       "      <td>2020</td>\n",
       "      <td>MI</td>\n",
       "      <td>FT</td>\n",
       "      <td>Product Data Analyst</td>\n",
       "      <td>IN</td>\n",
       "      <td>100</td>\n",
       "      <td>IN</td>\n",
       "      <td>L</td>\n",
       "    </tr>\n",
       "  </tbody>\n",
       "</table>\n",
       "</div>"
      ],
      "text/plain": [
       "   work_year experience_level employment_type                   job_title  \\\n",
       "0       2020               SE              FT  Machine Learning Scientist   \n",
       "1       2020               MI              FT           Lead Data Analyst   \n",
       "2       2020               MI              FT                Data Analyst   \n",
       "3       2020               MI              FT   Machine Learning Engineer   \n",
       "4       2020               MI              FT        Product Data Analyst   \n",
       "\n",
       "  employee_residence  remote_ratio company_location company_size  \n",
       "0                 JP             0               JP            S  \n",
       "1                 US           100               US            L  \n",
       "2                 US           100               US            L  \n",
       "3                 CN             0               CN            M  \n",
       "4                 IN           100               IN            L  "
      ]
     },
     "execution_count": 6,
     "metadata": {},
     "output_type": "execute_result"
    }
   ],
   "source": [
    "df_test.head()"
   ]
  },
  {
   "cell_type": "code",
   "execution_count": 9,
   "id": "be992d1f",
   "metadata": {},
   "outputs": [
    {
     "data": {
      "text/plain": [
       "work_year             0\n",
       "experience_level      0\n",
       "employment_type       0\n",
       "job_title             0\n",
       "salary_in_usd         0\n",
       "employee_residence    0\n",
       "remote_ratio          0\n",
       "company_location      0\n",
       "company_size          0\n",
       "dtype: int64"
      ]
     },
     "execution_count": 9,
     "metadata": {},
     "output_type": "execute_result"
    }
   ],
   "source": [
    "df.isna().sum()"
   ]
  },
  {
   "cell_type": "code",
   "execution_count": 10,
   "id": "cb4d06cf",
   "metadata": {},
   "outputs": [
    {
     "data": {
      "text/html": [
       "<div>\n",
       "<style scoped>\n",
       "    .dataframe tbody tr th:only-of-type {\n",
       "        vertical-align: middle;\n",
       "    }\n",
       "\n",
       "    .dataframe tbody tr th {\n",
       "        vertical-align: top;\n",
       "    }\n",
       "\n",
       "    .dataframe thead th {\n",
       "        text-align: right;\n",
       "    }\n",
       "</style>\n",
       "<table border=\"1\" class=\"dataframe\">\n",
       "  <thead>\n",
       "    <tr style=\"text-align: right;\">\n",
       "      <th></th>\n",
       "      <th>count</th>\n",
       "      <th>mean</th>\n",
       "      <th>std</th>\n",
       "      <th>min</th>\n",
       "      <th>25%</th>\n",
       "      <th>50%</th>\n",
       "      <th>75%</th>\n",
       "      <th>max</th>\n",
       "    </tr>\n",
       "  </thead>\n",
       "  <tbody>\n",
       "    <tr>\n",
       "      <th>work_year</th>\n",
       "      <td>500.00</td>\n",
       "      <td>2021.41</td>\n",
       "      <td>0.68</td>\n",
       "      <td>2020.00</td>\n",
       "      <td>2021.00</td>\n",
       "      <td>2022.00</td>\n",
       "      <td>2022.00</td>\n",
       "      <td>2022.00</td>\n",
       "    </tr>\n",
       "    <tr>\n",
       "      <th>salary_in_usd</th>\n",
       "      <td>500.00</td>\n",
       "      <td>112996.22</td>\n",
       "      <td>69613.75</td>\n",
       "      <td>2859.00</td>\n",
       "      <td>64594.50</td>\n",
       "      <td>103080.00</td>\n",
       "      <td>150000.00</td>\n",
       "      <td>450000.00</td>\n",
       "    </tr>\n",
       "    <tr>\n",
       "      <th>remote_ratio</th>\n",
       "      <td>500.00</td>\n",
       "      <td>71.80</td>\n",
       "      <td>40.47</td>\n",
       "      <td>0.00</td>\n",
       "      <td>50.00</td>\n",
       "      <td>100.00</td>\n",
       "      <td>100.00</td>\n",
       "      <td>100.00</td>\n",
       "    </tr>\n",
       "  </tbody>\n",
       "</table>\n",
       "</div>"
      ],
      "text/plain": [
       "               count      mean      std     min      25%       50%       75%  \\\n",
       "work_year     500.00   2021.41     0.68 2020.00  2021.00   2022.00   2022.00   \n",
       "salary_in_usd 500.00 112996.22 69613.75 2859.00 64594.50 103080.00 150000.00   \n",
       "remote_ratio  500.00     71.80    40.47    0.00    50.00    100.00    100.00   \n",
       "\n",
       "                    max  \n",
       "work_year       2022.00  \n",
       "salary_in_usd 450000.00  \n",
       "remote_ratio     100.00  "
      ]
     },
     "execution_count": 10,
     "metadata": {},
     "output_type": "execute_result"
    }
   ],
   "source": [
    "df.describe().T"
   ]
  },
  {
   "cell_type": "code",
   "execution_count": 11,
   "id": "e1954b9f",
   "metadata": {},
   "outputs": [
    {
     "data": {
      "text/plain": [
       "(500, 9)"
      ]
     },
     "execution_count": 11,
     "metadata": {},
     "output_type": "execute_result"
    }
   ],
   "source": [
    "df.shape"
   ]
  },
  {
   "cell_type": "code",
   "execution_count": 12,
   "id": "3070e8c1",
   "metadata": {},
   "outputs": [
    {
     "name": "stdout",
     "output_type": "stream",
     "text": [
      "<class 'pandas.core.frame.DataFrame'>\n",
      "RangeIndex: 500 entries, 0 to 499\n",
      "Data columns (total 9 columns):\n",
      " #   Column              Non-Null Count  Dtype \n",
      "---  ------              --------------  ----- \n",
      " 0   work_year           500 non-null    int64 \n",
      " 1   experience_level    500 non-null    object\n",
      " 2   employment_type     500 non-null    object\n",
      " 3   job_title           500 non-null    object\n",
      " 4   salary_in_usd       500 non-null    int64 \n",
      " 5   employee_residence  500 non-null    object\n",
      " 6   remote_ratio        500 non-null    int64 \n",
      " 7   company_location    500 non-null    object\n",
      " 8   company_size        500 non-null    object\n",
      "dtypes: int64(3), object(6)\n",
      "memory usage: 35.3+ KB\n"
     ]
    }
   ],
   "source": [
    "df.info()"
   ]
  },
  {
   "cell_type": "code",
   "execution_count": 13,
   "id": "91ba4662",
   "metadata": {},
   "outputs": [
    {
     "data": {
      "text/plain": [
       "job_title\n",
       "3D Computer Vision Researcher                5409.00\n",
       "Product Data Analyst                        20000.00\n",
       "Computer Vision Engineer                    28226.75\n",
       "Data Analytics Engineer                     35000.00\n",
       "Machine Learning Infrastructure Engineer    54217.50\n",
       "ETL Developer                               54957.00\n",
       "Big Data Engineer                           57080.57\n",
       "AI Scientist                                59410.60\n",
       "Finance Data Analyst                        61896.00\n",
       "Data Science Consultant                     67874.20\n",
       "Computer Vision Software Engineer           70000.00\n",
       "Machine Learning Developer                  78791.00\n",
       "Head of Machine Learning                    79039.00\n",
       "BI Data Analyst                             82454.40\n",
       "Data Science Engineer                       83705.00\n",
       "Lead Machine Learning Engineer              87932.00\n",
       "Marketing Data Analyst                      88654.00\n",
       "Business Data Analyst                       91253.50\n",
       "Data Analyst                                92154.56\n",
       "Lead Data Analyst                           94804.50\n",
       "Big Data Architect                          99703.00\n",
       "Research Scientist                          99953.58\n",
       "Staff Data Scientist                       105000.00\n",
       "Data Scientist                             110782.45\n",
       "Data Engineer                              111636.21\n",
       "Lead Data Scientist                        115190.00\n",
       "Machine Learning Manager                   117104.00\n",
       "ML Engineer                                117504.00\n",
       "Machine Learning Engineer                  117583.13\n",
       "Data Engineering Manager                   123227.20\n",
       "Cloud Data Engineer                        124647.00\n",
       "Data Analytics Manager                     127134.29\n",
       "Lead Data Engineer                         139724.50\n",
       "Head of Data                               142703.25\n",
       "Machine Learning Scientist                 143900.00\n",
       "Director of Data Engineering               156738.00\n",
       "Data Science Manager                       158328.50\n",
       "Analytics Engineer                         164900.00\n",
       "Data Specialist                            165000.00\n",
       "Head of Data Science                       167000.00\n",
       "Principal Data Analyst                     170000.00\n",
       "Applied Data Scientist                     175655.00\n",
       "Data Architect                             175934.25\n",
       "Applied Machine Learning Scientist         178800.00\n",
       "Director of Data Science                   195074.00\n",
       "Principal Data Scientist                   214449.50\n",
       "Data Analytics Lead                        405000.00\n",
       "Financial Data Analyst                     450000.00\n",
       "Name: salary_in_usd, dtype: float64"
      ]
     },
     "execution_count": 13,
     "metadata": {},
     "output_type": "execute_result"
    }
   ],
   "source": [
    "df_s = df.groupby('job_title')['salary_in_usd'].mean()\n",
    "df_s.sort_values()"
   ]
  },
  {
   "cell_type": "code",
   "execution_count": 14,
   "id": "18a20c73",
   "metadata": {},
   "outputs": [
    {
     "data": {
      "text/plain": [
       "job_title\n",
       "Data Analytics Lead      405000.00\n",
       "Financial Data Analyst   450000.00\n",
       "Name: salary_in_usd, dtype: float64"
      ]
     },
     "execution_count": 14,
     "metadata": {},
     "output_type": "execute_result"
    }
   ],
   "source": [
    "#Limits of Turkey's criterion to identify outliers.\n",
    "Q1 = df['salary_in_usd'].quantile(0.25)\n",
    "Q3 = df['salary_in_usd'].quantile(0.75)\n",
    "IQR = Q3 - Q1\n",
    "\n",
    "outliers = df.groupby('job_title')['salary_in_usd'].mean()[(df.groupby('job_title')['salary_in_usd'].mean() < Q1 - 1.5 * IQR) | (df.groupby('job_title')['salary_in_usd'].mean() > Q3 + 1.5 * IQR)]\n",
    "outliers"
   ]
  },
  {
   "cell_type": "code",
   "execution_count": 15,
   "id": "104d9e3f",
   "metadata": {},
   "outputs": [
    {
     "name": "stdout",
     "output_type": "stream",
     "text": [
      "Q11: 64594.5\n",
      "Q33: 150000.0\n",
      "IQRR: 85405.5\n",
      "Upper Limit for Outliers: 278108.25\n",
      "Lower Limit for Outliers: 21891.75\n"
     ]
    }
   ],
   "source": [
    "#1.5 times the interquartile range rule.\n",
    "Q11 = df['salary_in_usd'].quantile(0.25)\n",
    "Q33 = df['salary_in_usd'].quantile(0.75)\n",
    "IQRR = Q33 - Q11\n",
    "upper_limit = Q33 + 1.5 * IQRR\n",
    "lower_limit = Q33 - 1.5 * IQRR\n",
    "print(\"Q11:\", Q1)\n",
    "print(\"Q33:\", Q3)\n",
    "print(\"IQRR:\", IQRR)\n",
    "print(\"Upper Limit for Outliers:\", upper_limit)\n",
    "print(\"Lower Limit for Outliers:\", lower_limit)"
   ]
  },
  {
   "cell_type": "markdown",
   "id": "2687e5a8",
   "metadata": {},
   "source": [
    "# Data division for train and predict"
   ]
  },
  {
   "cell_type": "code",
   "execution_count": 18,
   "id": "a871d9b4",
   "metadata": {},
   "outputs": [],
   "source": [
    "X = df[['salary_in_usd']]\n",
    "scaler = StandardScaler()\n",
    "X = scaler.fit_transform(X)"
   ]
  },
  {
   "cell_type": "code",
   "execution_count": 19,
   "id": "f41937c9",
   "metadata": {},
   "outputs": [
    {
     "data": {
      "text/plain": [
       "work_year             0\n",
       "experience_level      0\n",
       "employment_type       0\n",
       "job_title             0\n",
       "salary_in_usd         0\n",
       "employee_residence    0\n",
       "remote_ratio          0\n",
       "company_location      0\n",
       "company_size          0\n",
       "dtype: int64"
      ]
     },
     "execution_count": 19,
     "metadata": {},
     "output_type": "execute_result"
    }
   ],
   "source": [
    "df.isna().sum()"
   ]
  },
  {
   "cell_type": "code",
   "execution_count": 24,
   "id": "27feb8e2",
   "metadata": {},
   "outputs": [
    {
     "data": {
      "image/png": "[encoded data removed]",
      "text/plain": [
       "<Figure size 864x720 with 2 Axes>"
      ]
     },
     "metadata": {
      "needs_background": "light"
     },
     "output_type": "display_data"
    }
   ],
   "source": [
    "# Create a matrix of correlation for all the variables\n",
    "corr_matrix = df.corr()\n",
    "\n",
    "# Order\n",
    "corr = corr_matrix['salary_in_usd'].sort_values(ascending=False)\n",
    "\n",
    "# Create a heatmap woth the variables more correlated with salary\n",
    "plt.figure(figsize=(12,10))\n",
    "sns.heatmap(corr_matrix.loc[corr.index, corr.index], annot=True, cmap='coolwarm')\n",
    "plt.show()"
   ]
  },
  {
   "cell_type": "markdown",
   "id": "80ac6ae6",
   "metadata": {},
   "source": [
    "# Sort and rank data"
   ]
  },
  {
   "cell_type": "markdown",
   "id": "41fd58ba",
   "metadata": {},
   "source": [
    "#### Sort Experience level column according to salaries"
   ]
  },
  {
   "cell_type": "code",
   "execution_count": 20,
   "id": "0b624d2b",
   "metadata": {},
   "outputs": [
    {
     "data": {
      "text/plain": [
       "experience_level\n",
       "EN    59989.57\n",
       "EX   196078.85\n",
       "MI    90384.61\n",
       "SE   136341.79\n",
       "Name: salary_in_usd, dtype: float64"
      ]
     },
     "execution_count": 20,
     "metadata": {},
     "output_type": "execute_result"
    }
   ],
   "source": [
    "df.groupby('experience_level')['salary_in_usd'].mean()"
   ]
  },
  {
   "cell_type": "markdown",
   "id": "6feb7181",
   "metadata": {},
   "source": [
    "## Sort for job title "
   ]
  },
  {
   "cell_type": "code",
   "execution_count": 21,
   "id": "12a9bc18",
   "metadata": {},
   "outputs": [],
   "source": [
    "def job_title(x):\n",
    "    if 'ml' in x.lower() or 'machine learning' in x.lower():\n",
    "        return 'ml'\n",
    "    elif 'analyst' in x.lower():\n",
    "        return 'analyst'\n",
    "    elif 'engineer' in x.lower():\n",
    "        return 'engineer'\n",
    "    elif 'scientist' in x.lower():\n",
    "        return 'scientist'\n",
    "    else:\n",
    "        return 'other'\n",
    "    \n",
    "df['job_title'] = df['job_title'].apply(lambda x: job_title(x))\n",
    "df_test['job_title'] = df_test['job_title'].apply(lambda x: job_title(x))\n"
   ]
  },
  {
   "cell_type": "markdown",
   "id": "488df916",
   "metadata": {},
   "source": [
    "\n",
    "#### sort by job title and average salaries"
   ]
  },
  {
   "cell_type": "code",
   "execution_count": 25,
   "id": "d4dd9539",
   "metadata": {},
   "outputs": [
    {
     "data": {
      "text/html": [
       "<div>\n",
       "<style scoped>\n",
       "    .dataframe tbody tr th:only-of-type {\n",
       "        vertical-align: middle;\n",
       "    }\n",
       "\n",
       "    .dataframe tbody tr th {\n",
       "        vertical-align: top;\n",
       "    }\n",
       "\n",
       "    .dataframe thead th {\n",
       "        text-align: right;\n",
       "    }\n",
       "</style>\n",
       "<table border=\"1\" class=\"dataframe\">\n",
       "  <thead>\n",
       "    <tr style=\"text-align: right;\">\n",
       "      <th></th>\n",
       "      <th>work_year</th>\n",
       "      <th>experience_level</th>\n",
       "      <th>employment_type</th>\n",
       "      <th>job_title</th>\n",
       "      <th>salary_in_usd</th>\n",
       "      <th>employee_residence</th>\n",
       "      <th>remote_ratio</th>\n",
       "      <th>company_location</th>\n",
       "      <th>company_size</th>\n",
       "    </tr>\n",
       "  </thead>\n",
       "  <tbody>\n",
       "    <tr>\n",
       "      <th>0</th>\n",
       "      <td>2022</td>\n",
       "      <td>SE</td>\n",
       "      <td>FT</td>\n",
       "      <td>engineer</td>\n",
       "      <td>140250</td>\n",
       "      <td>US</td>\n",
       "      <td>100</td>\n",
       "      <td>US</td>\n",
       "      <td>M</td>\n",
       "    </tr>\n",
       "    <tr>\n",
       "      <th>1</th>\n",
       "      <td>2022</td>\n",
       "      <td>SE</td>\n",
       "      <td>FT</td>\n",
       "      <td>engineer</td>\n",
       "      <td>135000</td>\n",
       "      <td>US</td>\n",
       "      <td>100</td>\n",
       "      <td>US</td>\n",
       "      <td>M</td>\n",
       "    </tr>\n",
       "    <tr>\n",
       "      <th>2</th>\n",
       "      <td>2021</td>\n",
       "      <td>MI</td>\n",
       "      <td>FT</td>\n",
       "      <td>analyst</td>\n",
       "      <td>100000</td>\n",
       "      <td>US</td>\n",
       "      <td>100</td>\n",
       "      <td>US</td>\n",
       "      <td>M</td>\n",
       "    </tr>\n",
       "    <tr>\n",
       "      <th>3</th>\n",
       "      <td>2021</td>\n",
       "      <td>MI</td>\n",
       "      <td>CT</td>\n",
       "      <td>ml</td>\n",
       "      <td>270000</td>\n",
       "      <td>US</td>\n",
       "      <td>100</td>\n",
       "      <td>US</td>\n",
       "      <td>L</td>\n",
       "    </tr>\n",
       "    <tr>\n",
       "      <th>4</th>\n",
       "      <td>2021</td>\n",
       "      <td>MI</td>\n",
       "      <td>FT</td>\n",
       "      <td>engineer</td>\n",
       "      <td>26005</td>\n",
       "      <td>RO</td>\n",
       "      <td>0</td>\n",
       "      <td>US</td>\n",
       "      <td>L</td>\n",
       "    </tr>\n",
       "  </tbody>\n",
       "</table>\n",
       "</div>"
      ],
      "text/plain": [
       "   work_year experience_level employment_type job_title  salary_in_usd  \\\n",
       "0       2022               SE              FT  engineer         140250   \n",
       "1       2022               SE              FT  engineer         135000   \n",
       "2       2021               MI              FT   analyst         100000   \n",
       "3       2021               MI              CT        ml         270000   \n",
       "4       2021               MI              FT  engineer          26005   \n",
       "\n",
       "  employee_residence  remote_ratio company_location company_size  \n",
       "0                 US           100               US            M  \n",
       "1                 US           100               US            M  \n",
       "2                 US           100               US            M  \n",
       "3                 US           100               US            L  \n",
       "4                 RO             0               US            L  "
      ]
     },
     "execution_count": 25,
     "metadata": {},
     "output_type": "execute_result"
    }
   ],
   "source": [
    "df.head()"
   ]
  },
  {
   "cell_type": "code",
   "execution_count": 26,
   "id": "ee80f5e0",
   "metadata": {},
   "outputs": [],
   "source": [
    "df = pd.get_dummies(df, columns = ['experience_level', 'employment_type', 'job_title', 'employee_residence', 'company_location', 'company_size'])\n",
    "df_test = pd.get_dummies(df_test, columns = ['experience_level', 'employment_type', 'job_title', 'employee_residence', 'company_location', 'company_size'])\n"
   ]
  },
  {
   "cell_type": "markdown",
   "id": "a2be480d",
   "metadata": {},
   "source": [
    "# Lazy Model"
   ]
  },
  {
   "cell_type": "code",
   "execution_count": 27,
   "id": "66446b1c",
   "metadata": {},
   "outputs": [
    {
     "name": "stderr",
     "output_type": "stream",
     "text": [
      "100%|██████████| 42/42 [00:05<00:00,  7.85it/s]"
     ]
    },
    {
     "name": "stdout",
     "output_type": "stream",
     "text": [
      "                                                            Adjusted R-Squared  \\\n",
      "Model                                                                            \n",
      "Lars                          698168442509481163906183114995979575195860992.00   \n",
      "RANSACRegressor                               55597888842277934003424067584.00   \n",
      "TransformedTargetRegressor                     3175467926990929956649828352.00   \n",
      "LinearRegression                               3175467926990929956649828352.00   \n",
      "MLPRegressor                                                             37.64   \n",
      "LinearSVR                                                                37.56   \n",
      "KernelRidge                                                              35.31   \n",
      "GaussianProcessRegressor                                                 14.75   \n",
      "SVR                                                                      10.15   \n",
      "QuantileRegressor                                                        10.14   \n",
      "DummyRegressor                                                           10.04   \n",
      "NuSVR                                                                    10.01   \n",
      "ElasticNetCV                                                              9.45   \n",
      "AdaBoostRegressor                                                         8.56   \n",
      "KNeighborsRegressor                                                       8.32   \n",
      "Lasso                                                                     7.43   \n",
      "SGDRegressor                                                              7.39   \n",
      "PoissonRegressor                                                          7.33   \n",
      "Ridge                                                                     7.31   \n",
      "PassiveAggressiveRegressor                                                7.30   \n",
      "HuberRegressor                                                            7.27   \n",
      "RidgeCV                                                                   7.27   \n",
      "ExtraTreeRegressor                                                        7.23   \n",
      "OrthogonalMatchingPursuitCV                                               7.18   \n",
      "ExtraTreesRegressor                                                       7.13   \n",
      "XGBRegressor                                                              7.02   \n",
      "DecisionTreeRegressor                                                     6.93   \n",
      "LassoLars                                                                 6.89   \n",
      "OrthogonalMatchingPursuit                                                 6.86   \n",
      "LassoLarsCV                                                               6.85   \n",
      "LassoCV                                                                   6.85   \n",
      "LarsCV                                                                    6.82   \n",
      "LassoLarsIC                                                               6.75   \n",
      "BayesianRidge                                                             6.70   \n",
      "GradientBoostingRegressor                                                 6.58   \n",
      "ElasticNet                                                                6.54   \n",
      "BaggingRegressor                                                          6.46   \n",
      "TweedieRegressor                                                          6.45   \n",
      "RandomForestRegressor                                                     6.39   \n",
      "GammaRegressor                                                            6.29   \n",
      "HistGradientBoostingRegressor                                             5.99   \n",
      "LGBMRegressor                                                             5.99   \n",
      "\n",
      "                                                                     R-Squared  \\\n",
      "Model                                                                            \n",
      "Lars                          -77574271389942349344349165158877241867763712.00   \n",
      "RANSACRegressor                               -6177543204697548222602674176.00   \n",
      "TransformedTargetRegressor                     -352829769665658868801208320.00   \n",
      "LinearRegression                               -352829769665658868801208320.00   \n",
      "MLPRegressor                                                             -3.07   \n",
      "LinearSVR                                                                -3.06   \n",
      "KernelRidge                                                              -2.81   \n",
      "GaussianProcessRegressor                                                 -0.53   \n",
      "SVR                                                                      -0.02   \n",
      "QuantileRegressor                                                        -0.02   \n",
      "DummyRegressor                                                           -0.00   \n",
      "NuSVR                                                                    -0.00   \n",
      "ElasticNetCV                                                              0.06   \n",
      "AdaBoostRegressor                                                         0.16   \n",
      "KNeighborsRegressor                                                       0.19   \n",
      "Lasso                                                                     0.29   \n",
      "SGDRegressor                                                              0.29   \n",
      "PoissonRegressor                                                          0.30   \n",
      "Ridge                                                                     0.30   \n",
      "PassiveAggressiveRegressor                                                0.30   \n",
      "HuberRegressor                                                            0.30   \n",
      "RidgeCV                                                                   0.30   \n",
      "ExtraTreeRegressor                                                        0.31   \n",
      "OrthogonalMatchingPursuitCV                                               0.31   \n",
      "ExtraTreesRegressor                                                       0.32   \n",
      "XGBRegressor                                                              0.33   \n",
      "DecisionTreeRegressor                                                     0.34   \n",
      "LassoLars                                                                 0.35   \n",
      "OrthogonalMatchingPursuit                                                 0.35   \n",
      "LassoLarsCV                                                               0.35   \n",
      "LassoCV                                                                   0.35   \n",
      "LarsCV                                                                    0.35   \n",
      "LassoLarsIC                                                               0.36   \n",
      "BayesianRidge                                                             0.37   \n",
      "GradientBoostingRegressor                                                 0.38   \n",
      "ElasticNet                                                                0.38   \n",
      "BaggingRegressor                                                          0.39   \n",
      "TweedieRegressor                                                          0.39   \n",
      "RandomForestRegressor                                                     0.40   \n",
      "GammaRegressor                                                            0.41   \n",
      "HistGradientBoostingRegressor                                             0.45   \n",
      "LGBMRegressor                                                             0.45   \n",
      "\n",
      "                                                        RMSE  Time Taken  \n",
      "Model                                                                     \n",
      "Lars                          550938966124920312443174912.00        0.03  \n",
      "RANSACRegressor                       4916460257110446080.00        0.21  \n",
      "TransformedTargetRegressor            1174971270463649024.00        0.02  \n",
      "LinearRegression                      1174971270463649024.00        0.02  \n",
      "MLPRegressor                                       126213.16        0.35  \n",
      "LinearSVR                                          126076.52        0.02  \n",
      "KernelRidge                                        122135.85        0.02  \n",
      "GaussianProcessRegressor                            77308.83        0.09  \n",
      "SVR                                                 63055.83        0.03  \n",
      "QuantileRegressor                                   63043.13        1.08  \n",
      "DummyRegressor                                      62674.87        0.01  \n",
      "NuSVR                                               62589.01        0.03  \n",
      "ElasticNetCV                                        60596.07        0.08  \n",
      "AdaBoostRegressor                                   57315.75        0.03  \n",
      "KNeighborsRegressor                                 56416.25        0.14  \n",
      "Lasso                                               52856.95        0.04  \n",
      "SGDRegressor                                        52720.43        0.02  \n",
      "PoissonRegressor                                    52445.28        0.05  \n",
      "Ridge                                               52387.49        0.01  \n",
      "PassiveAggressiveRegressor                          52316.96        0.19  \n",
      "HuberRegressor                                      52229.62        0.08  \n",
      "RidgeCV                                             52222.77        0.02  \n",
      "ExtraTreeRegressor                                  52051.72        0.01  \n",
      "OrthogonalMatchingPursuitCV                         51827.50        0.02  \n",
      "ExtraTreesRegressor                                 51605.68        0.29  \n",
      "XGBRegressor                                        51178.36        0.19  \n",
      "DecisionTreeRegressor                               50795.73        0.01  \n",
      "LassoLars                                           50621.65        0.03  \n",
      "OrthogonalMatchingPursuit                           50467.78        0.01  \n",
      "LassoLarsCV                                         50450.36        0.05  \n",
      "LassoCV                                             50416.66        0.14  \n",
      "LarsCV                                              50299.63        0.13  \n",
      "LassoLarsIC                                         50010.37        0.04  \n",
      "BayesianRidge                                       49782.86        0.02  \n",
      "GradientBoostingRegressor                           49233.87        0.13  \n",
      "ElasticNet                                          49092.01        0.01  \n",
      "BaggingRegressor                                    48741.12        0.04  \n",
      "TweedieRegressor                                    48654.57        0.03  \n",
      "RandomForestRegressor                               48414.94        0.30  \n",
      "GammaRegressor                                      47962.06        0.02  \n",
      "HistGradientBoostingRegressor                       46562.07        1.20  \n",
      "LGBMRegressor                                       46562.07        0.09  \n"
     ]
    },
    {
     "name": "stderr",
     "output_type": "stream",
     "text": [
      "\n"
     ]
    }
   ],
   "source": [
    "# Select the predictor variables and the target variable\n",
    "X = df.drop(['salary_in_usd'], axis = 1)\n",
    "y = df['salary_in_usd']\n",
    "\n",
    "\n",
    "# Split the dataset into training set and test set\n",
    "X_train, X_test, y_train, y_test = train_test_split(X, y, test_size=0.2, random_state=42)\n",
    "\n",
    "\n",
    "# Create a linear regression model\n",
    "reg = LazyRegressor(verbose=0, ignore_warnings=False, custom_metric=None)\n",
    "\n",
    "\n",
    "# Train the model with the training set\n",
    "models, predictions = reg.fit(X_train, X_test, y_train, y_test)\n",
    "\n",
    "\n",
    "print(models)"
   ]
  },
  {
   "cell_type": "code",
   "execution_count": 28,
   "id": "87ffe2dc",
   "metadata": {},
   "outputs": [
    {
     "data": {
      "text/html": [
       "<style>#sk-container-id-1 {color: black;background-color: white;}#sk-container-id-1 pre{padding: 0;}#sk-container-id-1 div.sk-toggleable {background-color: white;}#sk-container-id-1 label.sk-toggleable__label {cursor: pointer;display: block;width: 100%;margin-bottom: 0;padding: 0.3em;box-sizing: border-box;text-align: center;}#sk-container-id-1 label.sk-toggleable__label-arrow:before {content: \"▸\";float: left;margin-right: 0.25em;color: #696969;}#sk-container-id-1 label.sk-toggleable__label-arrow:hover:before {color: black;}#sk-container-id-1 div.sk-estimator:hover label.sk-toggleable__label-arrow:before {color: black;}#sk-container-id-1 div.sk-toggleable__content {max-height: 0;max-width: 0;overflow: hidden;text-align: left;background-color: #f0f8ff;}#sk-container-id-1 div.sk-toggleable__content pre {margin: 0.2em;color: black;border-radius: 0.25em;background-color: #f0f8ff;}#sk-container-id-1 input.sk-toggleable__control:checked~div.sk-toggleable__content {max-height: 200px;max-width: 100%;overflow: auto;}#sk-container-id-1 input.sk-toggleable__control:checked~label.sk-toggleable__label-arrow:before {content: \"▾\";}#sk-container-id-1 div.sk-estimator input.sk-toggleable__control:checked~label.sk-toggleable__label {background-color: #d4ebff;}#sk-container-id-1 div.sk-label input.sk-toggleable__control:checked~label.sk-toggleable__label {background-color: #d4ebff;}#sk-container-id-1 input.sk-hidden--visually {border: 0;clip: rect(1px 1px 1px 1px);clip: rect(1px, 1px, 1px, 1px);height: 1px;margin: -1px;overflow: hidden;padding: 0;position: absolute;width: 1px;}#sk-container-id-1 div.sk-estimator {font-family: monospace;background-color: #f0f8ff;border: 1px dotted black;border-radius: 0.25em;box-sizing: border-box;margin-bottom: 0.5em;}#sk-container-id-1 div.sk-estimator:hover {background-color: #d4ebff;}#sk-container-id-1 div.sk-parallel-item::after {content: \"\";width: 100%;border-bottom: 1px solid gray;flex-grow: 1;}#sk-container-id-1 div.sk-label:hover label.sk-toggleable__label {background-color: #d4ebff;}#sk-container-id-1 div.sk-serial::before {content: \"\";position: absolute;border-left: 1px solid gray;box-sizing: border-box;top: 0;bottom: 0;left: 50%;z-index: 0;}#sk-container-id-1 div.sk-serial {display: flex;flex-direction: column;align-items: center;background-color: white;padding-right: 0.2em;padding-left: 0.2em;position: relative;}#sk-container-id-1 div.sk-item {position: relative;z-index: 1;}#sk-container-id-1 div.sk-parallel {display: flex;align-items: stretch;justify-content: center;background-color: white;position: relative;}#sk-container-id-1 div.sk-item::before, #sk-container-id-1 div.sk-parallel-item::before {content: \"\";position: absolute;border-left: 1px solid gray;box-sizing: border-box;top: 0;bottom: 0;left: 50%;z-index: -1;}#sk-container-id-1 div.sk-parallel-item {display: flex;flex-direction: column;z-index: 1;position: relative;background-color: white;}#sk-container-id-1 div.sk-parallel-item:first-child::after {align-self: flex-end;width: 50%;}#sk-container-id-1 div.sk-parallel-item:last-child::after {align-self: flex-start;width: 50%;}#sk-container-id-1 div.sk-parallel-item:only-child::after {width: 0;}#sk-container-id-1 div.sk-dashed-wrapped {border: 1px dashed gray;margin: 0 0.4em 0.5em 0.4em;box-sizing: border-box;padding-bottom: 0.4em;background-color: white;}#sk-container-id-1 div.sk-label label {font-family: monospace;font-weight: bold;display: inline-block;line-height: 1.2em;}#sk-container-id-1 div.sk-label-container {text-align: center;}#sk-container-id-1 div.sk-container {/* jupyter's `normalize.less` sets `[hidden] { display: none; }` but bootstrap.min.css set `[hidden] { display: none !important; }` so we also need the `!important` here to be able to override the default hidden behavior on the sphinx rendered scikit-learn.org. See: https://github.com/scikit-learn/scikit-learn/issues/21755 */display: inline-block !important;position: relative;}#sk-container-id-1 div.sk-text-repr-fallback {display: none;}</style><div id=\"sk-container-id-1\" class=\"sk-top-container\"><div class=\"sk-text-repr-fallback\"><pre>MLPRegressor(hidden_layer_sizes=(10, 10, 10), max_iter=1000)</pre><b>In a Jupyter environment, please rerun this cell to show the HTML representation or trust the notebook. <br />On GitHub, the HTML representation is unable to render, please try loading this page with nbviewer.org.</b></div><div class=\"sk-container\" hidden><div class=\"sk-item\"><div class=\"sk-estimator sk-toggleable\"><input class=\"sk-toggleable__control sk-hidden--visually\" id=\"sk-estimator-id-1\" type=\"checkbox\" checked><label for=\"sk-estimator-id-1\" class=\"sk-toggleable__label sk-toggleable__label-arrow\">MLPRegressor</label><div class=\"sk-toggleable__content\"><pre>MLPRegressor(hidden_layer_sizes=(10, 10, 10), max_iter=1000)</pre></div></div></div></div></div>"
      ],
      "text/plain": [
       "MLPRegressor(hidden_layer_sizes=(10, 10, 10), max_iter=1000)"
      ]
     },
     "execution_count": 28,
     "metadata": {},
     "output_type": "execute_result"
    }
   ],
   "source": [
    "from sklearn.neural_network import MLPRegressor\n",
    "from sklearn.datasets import make_regression\n",
    "from sklearn.model_selection import train_test_split\n",
    "from sklearn.metrics import mean_squared_error\n",
    "\n",
    "X = df.drop(['salary_in_usd'], axis = 1)\n",
    "y = df['salary_in_usd']\n",
    "\n",
    "\n",
    "mlp = MLPRegressor(hidden_layer_sizes=(10, 10, 10), max_iter=1000)\n",
    "mlp.fit(X, y)\n",
    "\n"
   ]
  },
  {
   "cell_type": "code",
   "execution_count": 29,
   "id": "ba5d84c6",
   "metadata": {},
   "outputs": [
    {
     "data": {
      "text/html": [
       "<style>#sk-container-id-2 {color: black;background-color: white;}#sk-container-id-2 pre{padding: 0;}#sk-container-id-2 div.sk-toggleable {background-color: white;}#sk-container-id-2 label.sk-toggleable__label {cursor: pointer;display: block;width: 100%;margin-bottom: 0;padding: 0.3em;box-sizing: border-box;text-align: center;}#sk-container-id-2 label.sk-toggleable__label-arrow:before {content: \"▸\";float: left;margin-right: 0.25em;color: #696969;}#sk-container-id-2 label.sk-toggleable__label-arrow:hover:before {color: black;}#sk-container-id-2 div.sk-estimator:hover label.sk-toggleable__label-arrow:before {color: black;}#sk-container-id-2 div.sk-toggleable__content {max-height: 0;max-width: 0;overflow: hidden;text-align: left;background-color: #f0f8ff;}#sk-container-id-2 div.sk-toggleable__content pre {margin: 0.2em;color: black;border-radius: 0.25em;background-color: #f0f8ff;}#sk-container-id-2 input.sk-toggleable__control:checked~div.sk-toggleable__content {max-height: 200px;max-width: 100%;overflow: auto;}#sk-container-id-2 input.sk-toggleable__control:checked~label.sk-toggleable__label-arrow:before {content: \"▾\";}#sk-container-id-2 div.sk-estimator input.sk-toggleable__control:checked~label.sk-toggleable__label {background-color: #d4ebff;}#sk-container-id-2 div.sk-label input.sk-toggleable__control:checked~label.sk-toggleable__label {background-color: #d4ebff;}#sk-container-id-2 input.sk-hidden--visually {border: 0;clip: rect(1px 1px 1px 1px);clip: rect(1px, 1px, 1px, 1px);height: 1px;margin: -1px;overflow: hidden;padding: 0;position: absolute;width: 1px;}#sk-container-id-2 div.sk-estimator {font-family: monospace;background-color: #f0f8ff;border: 1px dotted black;border-radius: 0.25em;box-sizing: border-box;margin-bottom: 0.5em;}#sk-container-id-2 div.sk-estimator:hover {background-color: #d4ebff;}#sk-container-id-2 div.sk-parallel-item::after {content: \"\";width: 100%;border-bottom: 1px solid gray;flex-grow: 1;}#sk-container-id-2 div.sk-label:hover label.sk-toggleable__label {background-color: #d4ebff;}#sk-container-id-2 div.sk-serial::before {content: \"\";position: absolute;border-left: 1px solid gray;box-sizing: border-box;top: 0;bottom: 0;left: 50%;z-index: 0;}#sk-container-id-2 div.sk-serial {display: flex;flex-direction: column;align-items: center;background-color: white;padding-right: 0.2em;padding-left: 0.2em;position: relative;}#sk-container-id-2 div.sk-item {position: relative;z-index: 1;}#sk-container-id-2 div.sk-parallel {display: flex;align-items: stretch;justify-content: center;background-color: white;position: relative;}#sk-container-id-2 div.sk-item::before, #sk-container-id-2 div.sk-parallel-item::before {content: \"\";position: absolute;border-left: 1px solid gray;box-sizing: border-box;top: 0;bottom: 0;left: 50%;z-index: -1;}#sk-container-id-2 div.sk-parallel-item {display: flex;flex-direction: column;z-index: 1;position: relative;background-color: white;}#sk-container-id-2 div.sk-parallel-item:first-child::after {align-self: flex-end;width: 50%;}#sk-container-id-2 div.sk-parallel-item:last-child::after {align-self: flex-start;width: 50%;}#sk-container-id-2 div.sk-parallel-item:only-child::after {width: 0;}#sk-container-id-2 div.sk-dashed-wrapped {border: 1px dashed gray;margin: 0 0.4em 0.5em 0.4em;box-sizing: border-box;padding-bottom: 0.4em;background-color: white;}#sk-container-id-2 div.sk-label label {font-family: monospace;font-weight: bold;display: inline-block;line-height: 1.2em;}#sk-container-id-2 div.sk-label-container {text-align: center;}#sk-container-id-2 div.sk-container {/* jupyter's `normalize.less` sets `[hidden] { display: none; }` but bootstrap.min.css set `[hidden] { display: none !important; }` so we also need the `!important` here to be able to override the default hidden behavior on the sphinx rendered scikit-learn.org. See: https://github.com/scikit-learn/scikit-learn/issues/21755 */display: inline-block !important;position: relative;}#sk-container-id-2 div.sk-text-repr-fallback {display: none;}</style><div id=\"sk-container-id-2\" class=\"sk-top-container\"><div class=\"sk-text-repr-fallback\"><pre>MLPRegressor()</pre><b>In a Jupyter environment, please rerun this cell to show the HTML representation or trust the notebook. <br />On GitHub, the HTML representation is unable to render, please try loading this page with nbviewer.org.</b></div><div class=\"sk-container\" hidden><div class=\"sk-item\"><div class=\"sk-estimator sk-toggleable\"><input class=\"sk-toggleable__control sk-hidden--visually\" id=\"sk-estimator-id-2\" type=\"checkbox\" checked><label for=\"sk-estimator-id-2\" class=\"sk-toggleable__label sk-toggleable__label-arrow\">MLPRegressor</label><div class=\"sk-toggleable__content\"><pre>MLPRegressor()</pre></div></div></div></div></div>"
      ],
      "text/plain": [
       "MLPRegressor()"
      ]
     },
     "execution_count": 29,
     "metadata": {},
     "output_type": "execute_result"
    }
   ],
   "source": [
    "X = df.drop(['salary_in_usd'], axis = 1)\n",
    "y = df['salary_in_usd']\n",
    "\n",
    "model3 = MLPRegressor()\n",
    "model3.fit(X, y)"
   ]
  },
  {
   "cell_type": "code",
   "execution_count": null,
   "id": "ac7ff3aa",
   "metadata": {},
   "outputs": [],
   "source": []
  },
  {
   "cell_type": "code",
   "execution_count": null,
   "id": "c9556b97",
   "metadata": {},
   "outputs": [],
   "source": []
  },
  {
   "cell_type": "code",
   "execution_count": null,
   "id": "8ef5cd88",
   "metadata": {},
   "outputs": [],
   "source": [
    "from sklearn.ensemble import GradientBoostingRegressor\n",
    "\n",
    "\n",
    "# Define the training and test data\n",
    "X = df.drop(['salary_in_usd'], axis = 1)\n",
    "y = df['salary_in_usd']\n",
    "\n",
    "\n",
    "# Create the Gradient Boosting Regressor model\n",
    "model3 = GradientBoostingRegressor(n_estimators=100, learning_rate=0.1, max_depth=3)\n",
    "\n",
    "# Train the model with the training data\n",
    "model3.fit(X, y)\n",
    "\n"
   ]
  },
  {
   "cell_type": "code",
   "execution_count": 31,
   "id": "f0fcfb31",
   "metadata": {},
   "outputs": [],
   "source": [
    "#let's create the missing columns in dftest with respect to df\n",
    "\n",
    "def create_missing_columns(df, dftest):\n",
    "    missing_cols = set(df.columns) - set(dftest.columns)\n",
    "    for c in missing_cols:\n",
    "        dftest[c] = 0\n",
    "    dftest = dftest[df.columns]\n",
    "    return dftest\n",
    "\n",
    "df_test = create_missing_columns(df, df_test)\n",
    "#elimino la columna salary_in_usd\n",
    "df_test.drop(['salary_in_usd'], axis=1, inplace=True)"
   ]
  },
  {
   "cell_type": "code",
   "execution_count": 36,
   "id": "0a61a1b9",
   "metadata": {},
   "outputs": [],
   "source": [
    "muestra3 = pd.read_csv('../data/muestra.csv')"
   ]
  },
  {
   "cell_type": "code",
   "execution_count": 38,
   "id": "44ff8b1e",
   "metadata": {},
   "outputs": [],
   "source": [
    "muestra3['salary_in_usd'] = m3"
   ]
  },
  {
   "cell_type": "code",
   "execution_count": 39,
   "id": "2f33bf60",
   "metadata": {},
   "outputs": [],
   "source": [
    "m3 = model3.predict(df_test)"
   ]
  },
  {
   "cell_type": "code",
   "execution_count": 40,
   "id": "16cbf0ca",
   "metadata": {},
   "outputs": [
    {
     "data": {
      "text/plain": [
       "array([62359.38005057, 65200.51651533, 65200.51651533, 62335.57558054,\n",
       "       65155.64756751, 62280.92840489, 65193.17295363, 63773.07066175,\n",
       "       65169.59323455, 65203.6555358 , 63739.66504981, 63794.39242707,\n",
       "       65188.51444804, 63717.82824658, 65142.10521288, 63771.66453705,\n",
       "       65226.10318675, 65231.14875838, 65215.823184  , 65224.43579629,\n",
       "       63794.89990611, 63812.67837442, 65225.44578761, 65234.62691344,\n",
       "       65178.34657455, 63753.78863481, 62403.25589829, 62414.34773538,\n",
       "       65189.02412917, 63777.0615675 , 62366.42136158, 65226.16709536,\n",
       "       65210.49444144, 63797.70141078, 63756.79651723, 63807.15413166,\n",
       "       65234.49529116, 62359.7867844 , 63807.05947218, 65234.43898173,\n",
       "       63747.13715453, 65181.29814754, 65231.29996127, 65236.00401064,\n",
       "       65224.91217355, 65232.55256707, 62409.68041482, 63807.19109446,\n",
       "       65226.16709536, 65204.9046078 , 63816.90398663, 63776.46296737,\n",
       "       62442.02888966, 65262.12013602, 62440.61506365, 62432.67041154,\n",
       "       65266.97538827, 65263.67514759, 65265.56156226, 65265.41035937,\n",
       "       65265.56156226, 65264.33577903, 65265.41035937, 62443.75408411,\n",
       "       62443.62246183, 65266.2221937 , 65266.2221937 , 65265.41035937,\n",
       "       62443.905287  , 62432.53878926, 62442.02888966, 65265.22242767,\n",
       "       62437.60718123, 65238.63807768, 65187.04080401, 62440.46386076,\n",
       "       65238.45226744, 65254.3266868 , 62435.48219774, 63851.10406668,\n",
       "       65217.40239108, 65218.62828539, 63846.27360656, 63855.95931894,\n",
       "       65262.27133891, 62434.23544044, 62434.23544044, 65266.97538827,\n",
       "       65265.41035937, 65207.4039935 , 65251.99545682, 65236.39577349,\n",
       "       63839.34160299, 65219.31851929, 65265.41035937, 65258.5155702 ,\n",
       "       65228.87306044, 65256.41716525, 62433.34706398, 62443.75408411,\n",
       "       65265.41035937, 65265.56156226, 65265.56156226, 65266.2221937 ,\n",
       "       65266.97538827, 62428.36540096, 62443.905287  ])"
      ]
     },
     "execution_count": 40,
     "metadata": {},
     "output_type": "execute_result"
    }
   ],
   "source": [
    "m3"
   ]
  },
  {
   "cell_type": "code",
   "execution_count": 41,
   "id": "39631aac",
   "metadata": {},
   "outputs": [
    {
     "data": {
      "text/html": [
       "<div>\n",
       "<style scoped>\n",
       "    .dataframe tbody tr th:only-of-type {\n",
       "        vertical-align: middle;\n",
       "    }\n",
       "\n",
       "    .dataframe tbody tr th {\n",
       "        vertical-align: top;\n",
       "    }\n",
       "\n",
       "    .dataframe thead th {\n",
       "        text-align: right;\n",
       "    }\n",
       "</style>\n",
       "<table border=\"1\" class=\"dataframe\">\n",
       "  <thead>\n",
       "    <tr style=\"text-align: right;\">\n",
       "      <th></th>\n",
       "      <th>id</th>\n",
       "      <th>salary_in_usd</th>\n",
       "    </tr>\n",
       "  </thead>\n",
       "  <tbody>\n",
       "    <tr>\n",
       "      <th>0</th>\n",
       "      <td>0</td>\n",
       "      <td>62359.38</td>\n",
       "    </tr>\n",
       "    <tr>\n",
       "      <th>1</th>\n",
       "      <td>1</td>\n",
       "      <td>65200.52</td>\n",
       "    </tr>\n",
       "    <tr>\n",
       "      <th>2</th>\n",
       "      <td>2</td>\n",
       "      <td>65200.52</td>\n",
       "    </tr>\n",
       "    <tr>\n",
       "      <th>3</th>\n",
       "      <td>3</td>\n",
       "      <td>62335.58</td>\n",
       "    </tr>\n",
       "    <tr>\n",
       "      <th>4</th>\n",
       "      <td>4</td>\n",
       "      <td>65155.65</td>\n",
       "    </tr>\n",
       "  </tbody>\n",
       "</table>\n",
       "</div>"
      ],
      "text/plain": [
       "   id  salary_in_usd\n",
       "0   0       62359.38\n",
       "1   1       65200.52\n",
       "2   2       65200.52\n",
       "3   3       62335.58\n",
       "4   4       65155.65"
      ]
     },
     "execution_count": 41,
     "metadata": {},
     "output_type": "execute_result"
    }
   ],
   "source": [
    "muestra3.head()"
   ]
  },
  {
   "cell_type": "code",
   "execution_count": null,
   "id": "84eaaba3",
   "metadata": {},
   "outputs": [],
   "source": [
    "muestra3.to_csv('competition4.csv', index = False)"
   ]
  }
 ],
 "metadata": {
  "kernelspec": {
   "display_name": "Python 3 (ipykernel)",
   "language": "python",
   "name": "python3"
  },
  "language_info": {
   "codemirror_mode": {
    "name": "ipython",
    "version": 3
   },
   "file_extension": ".py",
   "mimetype": "text/x-python",
   "name": "python",
   "nbconvert_exporter": "python",
   "pygments_lexer": "ipython3",
   "version": "3.9.7"
  }
 },
 "nbformat": 4,
 "nbformat_minor": 5
}
